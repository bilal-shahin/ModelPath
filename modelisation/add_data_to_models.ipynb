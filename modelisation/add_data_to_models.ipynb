{
 "cells": [
  {
   "cell_type": "code",
   "execution_count": 1,
   "metadata": {},
   "outputs": [],
   "source": [
    "#import cobra\n",
    "import cobra\n",
    "import os"
   ]
  },
  {
   "cell_type": "code",
   "execution_count": 2,
   "metadata": {},
   "outputs": [],
   "source": [
    "import os\n",
    "import sys\n",
    "MODELPATH_DIR = '/home/shahin/workspace/discngine_demo/discngine'\n",
    "#BACK_DIR = os.path.join(MODELPATH_DIR,'backend')\n",
    "sys.path.insert(0,MODELPATH_DIR)\n",
    "os.environ.setdefault('DJANGO_SETTINGS_MODULE','discngine.settings')\n",
    "os.environ[\"DJANGO_ALLOW_ASYNC_UNSAFE\"] = \"true\"\n",
    "import django\n",
    "django.setup()\n",
    "from django.db.models import Count, Q\n",
    "import re\n",
    "from discngine.settings import STATICFILES_DIRS"
   ]
  },
  {
   "cell_type": "markdown",
   "metadata": {},
   "source": [
    "#### Importing models"
   ]
  },
  {
   "cell_type": "code",
   "execution_count": 3,
   "metadata": {},
   "outputs": [],
   "source": [
    "from modelisation.models import GSModels, Genes, Metabolites, Reactions, Reaction_model, Reaction_products, Reaction_substrates"
   ]
  },
  {
   "cell_type": "markdown",
   "metadata": {},
   "source": [
    "###### load bigg model with cobra"
   ]
  },
  {
   "cell_type": "code",
   "execution_count": 4,
   "metadata": {},
   "outputs": [],
   "source": [
    "#loading model\n",
    "model_paths = os.path.join(MODELPATH_DIR, 'static', 'models')\n",
    "model = cobra.io.load_json_model(model_paths+'/iML1515.json')"
   ]
  },
  {
   "cell_type": "code",
   "execution_count": 5,
   "metadata": {
    "scrolled": true
   },
   "outputs": [
    {
     "data": {
      "text/html": [
       "\n",
       "        <table>\n",
       "            <tr>\n",
       "                <td><strong>Name</strong></td>\n",
       "                <td>iML1515</td>\n",
       "            </tr><tr>\n",
       "                <td><strong>Memory address</strong></td>\n",
       "                <td>0x07f9d8db87f70</td>\n",
       "            </tr><tr>\n",
       "                <td><strong>Number of metabolites</strong></td>\n",
       "                <td>1877</td>\n",
       "            </tr><tr>\n",
       "                <td><strong>Number of reactions</strong></td>\n",
       "                <td>2712</td>\n",
       "            </tr><tr>\n",
       "                <td><strong>Number of groups</strong></td>\n",
       "                <td>0</td>\n",
       "            </tr><tr>\n",
       "                <td><strong>Objective expression</strong></td>\n",
       "                <td>1.0*BIOMASS_Ec_iML1515_core_75p37M - 1.0*BIOMASS_Ec_iML1515_core_75p37M_reverse_35685</td>\n",
       "            </tr><tr>\n",
       "                <td><strong>Compartments</strong></td>\n",
       "                <td>cytosol, extracellular space, periplasm</td>\n",
       "            </tr>\n",
       "          </table>"
      ],
      "text/plain": [
       "<Model iML1515 at 0x7f9d8db87f70>"
      ]
     },
     "execution_count": 5,
     "metadata": {},
     "output_type": "execute_result"
    }
   ],
   "source": [
    "model"
   ]
  },
  {
   "cell_type": "markdown",
   "metadata": {},
   "source": [
    "##### Adding the model to the database"
   ]
  },
  {
   "cell_type": "code",
   "execution_count": 10,
   "metadata": {},
   "outputs": [],
   "source": [
    "iml1515 = GSModels(id=model.id, organism='E.Coli', objective=model.objective, nb_reactions=len(model.reactions), nb_metabolites=len(model.metabolites))\n",
    "iml1515.save()"
   ]
  },
  {
   "cell_type": "markdown",
   "metadata": {},
   "source": [
    "### adding all metabolites"
   ]
  },
  {
   "cell_type": "code",
   "execution_count": 6,
   "metadata": {},
   "outputs": [
    {
     "name": "stderr",
     "output_type": "stream",
     "text": [
      "/home/shahin/anaconda3/envs/prog/lib/python3.8/site-packages/cobra/core/metabolite.py:136: UserWarning: The element 'X' does not appear in the periodic table\n",
      "  warn(\"The element %s does not appear in the periodic table\" % e)\n",
      "/home/shahin/anaconda3/envs/prog/lib/python3.8/site-packages/cobra/core/metabolite.py:136: UserWarning: The element 'R' does not appear in the periodic table\n",
      "  warn(\"The element %s does not appear in the periodic table\" % e)\n"
     ]
    }
   ],
   "source": [
    "for met in model.metabolites:\n",
    "    metabolite = Metabolites(id=met.id, name=met.name, formula=met.formula, charge=met.charge, mol_weight=met.formula_weight)\n",
    "    metabolite.save()\n",
    "    \n",
    "    # bigg ids\n",
    "    bigg_ids = met.annotation.get('bigg.metabolite',None)\n",
    "    metabolite.bigg = bigg_ids[0] if bigg_ids is not None else None\n",
    "    # biocyc\n",
    "    biocyc = met.annotation.get('biocyc', None)\n",
    "    metabolite.biocyc = biocyc[0] if biocyc is not None else None\n",
    "    # chebi\n",
    "    chebi = met.annotation.get('chebi', None)\n",
    "    metabolite.chebi = chebi[0] if chebi is not None else None\n",
    "    # hmdb\n",
    "    hmdb = met.annotation.get('hmdb', None)\n",
    "    metabolite.hmdb = hmdb[0] if hmdb is not None else None\n",
    "    # inchi_key\n",
    "    inchi_key = met.annotation.get('inchi_key', None)\n",
    "    metabolite.inchikey = inchi_key[0] if inchi_key is not None else None\n",
    "    # kegg_compound\n",
    "    kegg_compound = met.annotation.get('kegg.compound', None)\n",
    "    metabolite.kegg_compound = kegg_compound[0] if kegg_compound is not None else None\n",
    "    # kegg_drug\n",
    "    kegg_drug = met.annotation.get('kegg.drug', None)\n",
    "    metabolite.kegg_drug = kegg_drug[0] if kegg_drug is not None else None\n",
    "    # metanetx.chemical\n",
    "    mnxm = met.annotation.get('metanetx.chemical', None)\n",
    "    metabolite.mnxm = mnxm[0] if mnxm is not None else None\n",
    "    # sabiork\n",
    "    sabiork = met.annotation.get('sabiork', None)\n",
    "    metabolite.sabiork = sabiork[0] if sabiork is not None else None\n",
    "    # sbo\n",
    "    sbo = met.annotation.get('sbo', None)\n",
    "    metabolite.sbo = sbo[0] if sbo is not None else None\n",
    "    # seed.compound'\n",
    "    seed = met.annotation.get('seed.compound', None)\n",
    "    metabolite.seed = seed[0] if seed is not None else None\n",
    "    \n",
    "    metabolite.save()"
   ]
  },
  {
   "cell_type": "markdown",
   "metadata": {},
   "source": [
    "###### adding smiles using selenium. Retrieving SMILES from biocyc pages for each metabolite ID"
   ]
  },
  {
   "cell_type": "code",
   "execution_count": 50,
   "metadata": {},
   "outputs": [],
   "source": [
    "from selenium import webdriver\n",
    "from bs4 import BeautifulSoup\n",
    "import time"
   ]
  },
  {
   "cell_type": "code",
   "execution_count": null,
   "metadata": {},
   "outputs": [],
   "source": [
    "driver = webdriver.Chrome(\"/home/shahin/workspace/discngine_demo/data/chromedriver\")\n",
    "for met in Metabolites.objects.filter(smiles=None):\n",
    "    try:\n",
    "        #url = 'identifiers.org/biocyc/'+met.biocyc\n",
    "        #print(url)\n",
    "        driver.get(\"https://biocyc.org/compound?orgid=META&id=\"+met.biocyc.split(':')[1])\n",
    "        time.sleep(1)\n",
    "        content = driver.page_source\n",
    "        soup = BeautifulSoup(content)\n",
    "        #print(soup)\n",
    "        summary = soup.find('table', attrs={'class':\"summaryTable3\"})\n",
    "        for a in summary.findAll('td', attrs={'class':'label'}):\n",
    "            if a.text.strip() == 'SMILES':\n",
    "                met.smiles = a.find_next().text.strip()\n",
    "                #print(dir(a))\n",
    "                #print(name)\n",
    "                break\n",
    "        met.save()\n",
    "    except:pass\n",
    "driver.close()    "
   ]
  },
  {
   "cell_type": "markdown",
   "metadata": {},
   "source": [
    "##### generating MolFiles and 2D pics with RDKIT "
   ]
  },
  {
   "cell_type": "code",
   "execution_count": 4,
   "metadata": {},
   "outputs": [],
   "source": [
    "from rdkit import Chem\n",
    "from rdkit.Chem import AllChem, Draw"
   ]
  },
  {
   "cell_type": "code",
   "execution_count": 40,
   "metadata": {},
   "outputs": [
    {
     "name": "stderr",
     "output_type": "stream",
     "text": [
      "RDKit ERROR: [18:41:34] SMILES Parse Error: syntax error while parsing: C(O)[C@H]1(O[C@@H]([C@H](O)[C@@H](O)[C@H](O[R1])1)O[C@H]4([C@H](O)[C@@H](O)[C@@H](O[C@H]2([C@H](O)[C@@H](O)[C@H](O[C@H](CO)2)O[C@H]3([C@H](O)[C@@H](O)[C@@H](O[R2])O[C@H](CO)3)))O[C@H](CO)4))\n",
      "RDKit ERROR: [18:41:34] SMILES Parse Error: Failed parsing SMILES 'C(O)[C@H]1(O[C@@H]([C@H](O)[C@@H](O)[C@H](O[R1])1)O[C@H]4([C@H](O)[C@@H](O)[C@@H](O[C@H]2([C@H](O)[C@@H](O)[C@H](O[C@H](CO)2)O[C@H]3([C@H](O)[C@@H](O)[C@@H](O[R2])O[C@H](CO)3)))O[C@H](CO)4))' for input: 'C(O)[C@H]1(O[C@@H]([C@H](O)[C@@H](O)[C@H](O[R1])1)O[C@H]4([C@H](O)[C@@H](O)[C@@H](O[C@H]2([C@H](O)[C@@H](O)[C@H](O[C@H](CO)2)O[C@H]3([C@H](O)[C@@H](O)[C@@H](O[R2])O[C@H](CO)3)))O[C@H](CO)4))'\n",
      "RDKit ERROR: [18:41:34] SMILES Parse Error: syntax error while parsing: C(O)[C@H]1(O[C@@H]([C@H](O)[C@@H](O)[C@H](O[R1])1)O[C@H]4([C@H](O)[C@@H](O)[C@@H](O[C@H]2([C@H](O)[C@@H](O)[C@H](O[C@H](CO)2)O[C@H]3([C@H](O)[C@@H](O)[C@@H](O[R2])O[C@H](CO)3)))O[C@H](CO)4))\n",
      "RDKit ERROR: [18:41:34] SMILES Parse Error: Failed parsing SMILES 'C(O)[C@H]1(O[C@@H]([C@H](O)[C@@H](O)[C@H](O[R1])1)O[C@H]4([C@H](O)[C@@H](O)[C@@H](O[C@H]2([C@H](O)[C@@H](O)[C@H](O[C@H](CO)2)O[C@H]3([C@H](O)[C@@H](O)[C@@H](O[R2])O[C@H](CO)3)))O[C@H](CO)4))' for input: 'C(O)[C@H]1(O[C@@H]([C@H](O)[C@@H](O)[C@H](O[R1])1)O[C@H]4([C@H](O)[C@@H](O)[C@@H](O[C@H]2([C@H](O)[C@@H](O)[C@H](O[C@H](CO)2)O[C@H]3([C@H](O)[C@@H](O)[C@@H](O[R2])O[C@H](CO)3)))O[C@H](CO)4))'\n",
      "RDKit ERROR: [18:41:34] SMILES Parse Error: syntax error while parsing: C(O)[C@H]1(O[C@@H]([C@H](O)[C@@H](O)[C@H](O[R1])1)O[C@H]4([C@H](O)[C@@H](O)[C@@H](O[C@H]2([C@H](O)[C@@H](O)[C@H](O[C@H](CO)2)O[C@H]3([C@H](O)[C@@H](O)[C@@H](O[R2])O[C@H](CO)3)))O[C@H](CO)4))\n",
      "RDKit ERROR: [18:41:34] SMILES Parse Error: Failed parsing SMILES 'C(O)[C@H]1(O[C@@H]([C@H](O)[C@@H](O)[C@H](O[R1])1)O[C@H]4([C@H](O)[C@@H](O)[C@@H](O[C@H]2([C@H](O)[C@@H](O)[C@H](O[C@H](CO)2)O[C@H]3([C@H](O)[C@@H](O)[C@@H](O[R2])O[C@H](CO)3)))O[C@H](CO)4))' for input: 'C(O)[C@H]1(O[C@@H]([C@H](O)[C@@H](O)[C@H](O[R1])1)O[C@H]4([C@H](O)[C@@H](O)[C@@H](O[C@H]2([C@H](O)[C@@H](O)[C@H](O[C@H](CO)2)O[C@H]3([C@H](O)[C@@H](O)[C@@H](O[R2])O[C@H](CO)3)))O[C@H](CO)4))'\n",
      "RDKit ERROR: [18:41:34] SMILES Parse Error: syntax error while parsing: C([R])(=O)C([O-])=O\n",
      "RDKit ERROR: [18:41:34] SMILES Parse Error: Failed parsing SMILES 'C([R])(=O)C([O-])=O' for input: 'C([R])(=O)C([O-])=O'\n",
      "RDKit ERROR: [18:41:34] SMILES Parse Error: syntax error while parsing: C([R])(=O)C([O-])=O\n",
      "RDKit ERROR: [18:41:34] SMILES Parse Error: Failed parsing SMILES 'C([R])(=O)C([O-])=O' for input: 'C([R])(=O)C([O-])=O'\n",
      "RDKit ERROR: [18:41:34] SMILES Parse Error: syntax error while parsing: C([R])(=O)C([O-])=O\n",
      "RDKit ERROR: [18:41:34] SMILES Parse Error: Failed parsing SMILES 'C([R])(=O)C([O-])=O' for input: 'C([R])(=O)C([O-])=O'\n",
      "RDKit ERROR: [18:41:34] SMILES Parse Error: syntax error while parsing: C([R])(=O)C([O-])=O\n",
      "RDKit ERROR: [18:41:34] SMILES Parse Error: Failed parsing SMILES 'C([R])(=O)C([O-])=O' for input: 'C([R])(=O)C([O-])=O'\n",
      "RDKit ERROR: [18:41:34] SMILES Parse Error: syntax error while parsing: C1([R1])(=C([R4])C(=O)C(/[R3])=C([R2])/C(=O)1)\n",
      "RDKit ERROR: [18:41:34] SMILES Parse Error: Failed parsing SMILES 'C1([R1])(=C([R4])C(=O)C(/[R3])=C([R2])/C(=O)1)' for input: 'C1([R1])(=C([R4])C(=O)C(/[R3])=C([R2])/C(=O)1)'\n",
      "RDKit ERROR: [18:41:34] SMILES Parse Error: syntax error while parsing: C1([R1])(=C([R4])C(/O)=C([R3])\\C(/[R2])=C1\\O)\n",
      "RDKit ERROR: [18:41:34] SMILES Parse Error: Failed parsing SMILES 'C1([R1])(=C([R4])C(/O)=C([R3])\\C(/[R2])=C1\\O)' for input: 'C1([R1])(=C([R4])C(/O)=C([R3])\\C(/[R2])=C1\\O)'\n",
      "RDKit ERROR: [18:41:34] SMILES Parse Error: syntax error while parsing: C([R])(=O)C([O-])=O\n",
      "RDKit ERROR: [18:41:34] SMILES Parse Error: Failed parsing SMILES 'C([R])(=O)C([O-])=O' for input: 'C([R])(=O)C([O-])=O'\n",
      "RDKit ERROR: [18:41:34] SMILES Parse Error: syntax error while parsing: C1([R1])(=C([R4])C(/O)=C([R3])\\C(/[R2])=C1\\O)\n",
      "RDKit ERROR: [18:41:34] SMILES Parse Error: Failed parsing SMILES 'C1([R1])(=C([R4])C(/O)=C([R3])\\C(/[R2])=C1\\O)' for input: 'C1([R1])(=C([R4])C(/O)=C([R3])\\C(/[R2])=C1\\O)'\n",
      "RDKit ERROR: [18:41:34] SMILES Parse Error: syntax error while parsing: C([R])(=O)C([O-])=O\n",
      "RDKit ERROR: [18:41:34] SMILES Parse Error: Failed parsing SMILES 'C([R])(=O)C([O-])=O' for input: 'C([R])(=O)C([O-])=O'\n",
      "RDKit ERROR: [18:41:34] SMILES Parse Error: syntax error while parsing: C([R])[C@H](CC(=O)SCCNC(=O)CCNC([C@H](O)C(C)(C)COP(=O)([O-])OC[C@H](N[a\n",
      "RDKit ERROR: [18:41:34] SMILES Parse Error: Failed parsing SMILES 'C([R])[C@H](CC(=O)SCCNC(=O)CCNC([C@H](O)C(C)(C)COP(=O)([O-])OC[C@H](N[a' for input: 'C([R])[C@H](CC(=O)SCCNC(=O)CCNC([C@H](O)C(C)(C)COP(=O)([O-])OC[C@H](N[a'\n",
      "RDKit ERROR: [18:41:35] SMILES Parse Error: syntax error while parsing: C([R])[C@H](CC(=O)SCCNC(=O)CCNC([C@H](O)C(C)(C)COP(=O)([O-])OC[C@H](N[a\n",
      "RDKit ERROR: [18:41:35] SMILES Parse Error: Failed parsing SMILES 'C([R])[C@H](CC(=O)SCCNC(=O)CCNC([C@H](O)C(C)(C)COP(=O)([O-])OC[C@H](N[a' for input: 'C([R])[C@H](CC(=O)SCCNC(=O)CCNC([C@H](O)C(C)(C)COP(=O)([O-])OC[C@H](N[a'\n",
      "RDKit ERROR: [18:41:35] SMILES Parse Error: syntax error while parsing: C([R])[C@H](CC(=O)SCCNC(=O)CCNC([C@H](O)C(C)(C)COP(=O)([O-])OC[C@H](N[a\n",
      "RDKit ERROR: [18:41:35] SMILES Parse Error: Failed parsing SMILES 'C([R])[C@H](CC(=O)SCCNC(=O)CCNC([C@H](O)C(C)(C)COP(=O)([O-])OC[C@H](N[a' for input: 'C([R])[C@H](CC(=O)SCCNC(=O)CCNC([C@H](O)C(C)(C)COP(=O)([O-])OC[C@H](N[a'\n",
      "RDKit ERROR: [18:41:35] SMILES Parse Error: syntax error while parsing: C([R])[C@H](CC(=O)SCCNC(=O)CCNC([C@H](O)C(C)(C)COP(=O)([O-])OC[C@H](N[a\n",
      "RDKit ERROR: [18:41:35] SMILES Parse Error: Failed parsing SMILES 'C([R])[C@H](CC(=O)SCCNC(=O)CCNC([C@H](O)C(C)(C)COP(=O)([O-])OC[C@H](N[a' for input: 'C([R])[C@H](CC(=O)SCCNC(=O)CCNC([C@H](O)C(C)(C)COP(=O)([O-])OC[C@H](N[a'\n",
      "RDKit ERROR: [18:41:35] SMILES Parse Error: syntax error while parsing: C([R])(=O)C([O-])=O\n",
      "RDKit ERROR: [18:41:35] SMILES Parse Error: Failed parsing SMILES 'C([R])(=O)C([O-])=O' for input: 'C([R])(=O)C([O-])=O'\n",
      "RDKit ERROR: [18:41:35] SMILES Parse Error: syntax error while parsing: C([R])(=O)C([O-])=O\n",
      "RDKit ERROR: [18:41:35] SMILES Parse Error: Failed parsing SMILES 'C([R])(=O)C([O-])=O' for input: 'C([R])(=O)C([O-])=O'\n",
      "RDKit ERROR: [18:41:35] SMILES Parse Error: syntax error while parsing: CCCCCCCCCC(=O)CC(=O)SCCNC(=O)CCNC([C@H](O)C(C)(C)COP(=O)([O-])OC[C@H](N[a\n",
      "RDKit ERROR: [18:41:35] SMILES Parse Error: Failed parsing SMILES 'CCCCCCCCCC(=O)CC(=O)SCCNC(=O)CCNC([C@H](O)C(C)(C)COP(=O)([O-])OC[C@H](N[a' for input: 'CCCCCCCCCC(=O)CC(=O)SCCNC(=O)CCNC([C@H](O)C(C)(C)COP(=O)([O-])OC[C@H](N[a'\n",
      "RDKit ERROR: [18:41:35] SMILES Parse Error: syntax error while parsing: CCCCCCCC(=O)CC(SCCNC(=O)CCNC([C@H](O)C(C)(C)COP(=O)([O-])OC[C@H](N[a\n",
      "RDKit ERROR: [18:41:35] SMILES Parse Error: Failed parsing SMILES 'CCCCCCCC(=O)CC(SCCNC(=O)CCNC([C@H](O)C(C)(C)COP(=O)([O-])OC[C@H](N[a' for input: 'CCCCCCCC(=O)CC(SCCNC(=O)CCNC([C@H](O)C(C)(C)COP(=O)([O-])OC[C@H](N[a'\n",
      "RDKit ERROR: [18:41:35] SMILES Parse Error: syntax error while parsing: CCCC(=O)CC(=O)SCCNC(=O)CCNC([C@H](O)C(C)(C)COP(=O)([O-])OC[C@H](N[a\n",
      "RDKit ERROR: [18:41:35] SMILES Parse Error: Failed parsing SMILES 'CCCC(=O)CC(=O)SCCNC(=O)CCNC([C@H](O)C(C)(C)COP(=O)([O-])OC[C@H](N[a' for input: 'CCCC(=O)CC(=O)SCCNC(=O)CCNC([C@H](O)C(C)(C)COP(=O)([O-])OC[C@H](N[a'\n",
      "RDKit ERROR: [18:41:35] SMILES Parse Error: syntax error while parsing: CCCCCCCCCCCC(=O)CC(=O)SCCNC(=O)CCNC([C@H](O)C(C)(C)COP(=O)([O-])OC[C@H](N[a\n",
      "RDKit ERROR: [18:41:35] SMILES Parse Error: Failed parsing SMILES 'CCCCCCCCCCCC(=O)CC(=O)SCCNC(=O)CCNC([C@H](O)C(C)(C)COP(=O)([O-])OC[C@H](N[a' for input: 'CCCCCCCCCCCC(=O)CC(=O)SCCNC(=O)CCNC([C@H](O)C(C)(C)COP(=O)([O-])OC[C@H](N[a'\n",
      "RDKit ERROR: [18:41:35] SMILES Parse Error: syntax error while parsing: CCCCCC(=O)CC(=O)SCCNC(=O)CCNC([C@H](O)C(C)(C)COP(=O)([O-])OC[C@H](N[a\n",
      "RDKit ERROR: [18:41:35] SMILES Parse Error: Failed parsing SMILES 'CCCCCC(=O)CC(=O)SCCNC(=O)CCNC([C@H](O)C(C)(C)COP(=O)([O-])OC[C@H](N[a' for input: 'CCCCCC(=O)CC(=O)SCCNC(=O)CCNC([C@H](O)C(C)(C)COP(=O)([O-])OC[C@H](N[a'\n",
      "RDKit ERROR: [18:41:35] SMILES Parse Error: syntax error while parsing: CCCCCCCCCCCCCC(=O)CC(SCCNC(=O)CCNC([C@H](O)C(C)(C)COP(=O)([O-])OC[C@H](N[a\n",
      "RDKit ERROR: [18:41:35] SMILES Parse Error: Failed parsing SMILES 'CCCCCCCCCCCCCC(=O)CC(SCCNC(=O)CCNC([C@H](O)C(C)(C)COP(=O)([O-])OC[C@H](N[a' for input: 'CCCCCCCCCCCCCC(=O)CC(SCCNC(=O)CCNC([C@H](O)C(C)(C)COP(=O)([O-])OC[C@H](N[a'\n"
     ]
    },
    {
     "name": "stderr",
     "output_type": "stream",
     "text": [
      "RDKit ERROR: [18:41:35] SMILES Parse Error: syntax error while parsing: CC(C)(COP(=O)([O-])OC[C@H](N[a\n",
      "RDKit ERROR: [18:41:35] SMILES Parse Error: Failed parsing SMILES 'CC(C)(COP(=O)([O-])OC[C@H](N[a' for input: 'CC(C)(COP(=O)([O-])OC[C@H](N[a'\n",
      "RDKit ERROR: [18:41:35] SMILES Parse Error: syntax error while parsing: CC(SCCNC(=O)CCNC([C@H](O)C(C)(C)COP(=O)([O-])OC[C@H](N[a\n",
      "RDKit ERROR: [18:41:35] SMILES Parse Error: Failed parsing SMILES 'CC(SCCNC(=O)CCNC([C@H](O)C(C)(C)COP(=O)([O-])OC[C@H](N[a' for input: 'CC(SCCNC(=O)CCNC([C@H](O)C(C)(C)COP(=O)([O-])OC[C@H](N[a'\n",
      "RDKit ERROR: [18:41:36] SMILES Parse Error: syntax error while parsing: CC(CC(=O)SCCNC(=O)CCNC([C@H](O)C(C)(C)COP(=O)([O-])OC[C@H](N[a\n",
      "RDKit ERROR: [18:41:36] SMILES Parse Error: Failed parsing SMILES 'CC(CC(=O)SCCNC(=O)CCNC([C@H](O)C(C)(C)COP(=O)([O-])OC[C@H](N[a' for input: 'CC(CC(=O)SCCNC(=O)CCNC([C@H](O)C(C)(C)COP(=O)([O-])OC[C@H](N[a'\n",
      "RDKit ERROR: [18:41:36] SMILES Parse Error: syntax error while parsing: C([R])(=O)C([O-])=O\n",
      "RDKit ERROR: [18:41:36] SMILES Parse Error: Failed parsing SMILES 'C([R])(=O)C([O-])=O' for input: 'C([R])(=O)C([O-])=O'\n",
      "RDKit ERROR: [18:41:36] SMILES Parse Error: syntax error while parsing: C([R])(=O)C([O-])=O\n",
      "RDKit ERROR: [18:41:36] SMILES Parse Error: Failed parsing SMILES 'C([R])(=O)C([O-])=O' for input: 'C([R])(=O)C([O-])=O'\n",
      "RDKit ERROR: [18:41:36] SMILES Parse Error: syntax error while parsing: C([R])(=O)C([O-])=O\n",
      "RDKit ERROR: [18:41:36] SMILES Parse Error: Failed parsing SMILES 'C([R])(=O)C([O-])=O' for input: 'C([R])(=O)C([O-])=O'\n",
      "RDKit ERROR: [18:41:37] SMILES Parse Error: syntax error while parsing: C([R])(=O)C([O-])=O\n",
      "RDKit ERROR: [18:41:37] SMILES Parse Error: Failed parsing SMILES 'C([R])(=O)C([O-])=O' for input: 'C([R])(=O)C([O-])=O'\n",
      "RDKit ERROR: [18:41:37] SMILES Parse Error: syntax error while parsing: C[C@@H](C(N[C@H](CCC(N[C@@H](CCCC([NH3+])[R])C(=O)N[C@H](C)C([O-])=O)=O)C([O-])=O)=O)NC([C@@H](C)O[C@H]2([C@H](O[C@@H]1(O[C@H](CO)[C@@H](O)[C@H](O)[C@@H](NC(=O)C)1))C3(COC([C@H](NC(=O)C)2)O3)))=O\n",
      "RDKit ERROR: [18:41:37] SMILES Parse Error: Failed parsing SMILES 'C[C@@H](C(N[C@H](CCC(N[C@@H](CCCC([NH3+])[R])C(=O)N[C@H](C)C([O-])=O)=O)C([O-])=O)=O)NC([C@@H](C)O[C@H]2([C@H](O[C@@H]1(O[C@H](CO)[C@@H](O)[C@H](O)[C@@H](NC(=O)C)1))C3(COC([C@H](NC(=O)C)2)O3)))=O' for input: 'C[C@@H](C(N[C@H](CCC(N[C@@H](CCCC([NH3+])[R])C(=O)N[C@H](C)C([O-])=O)=O)C([O-])=O)=O)NC([C@@H](C)O[C@H]2([C@H](O[C@@H]1(O[C@H](CO)[C@@H](O)[C@H](O)[C@@H](NC(=O)C)1))C3(COC([C@H](NC(=O)C)2)O3)))=O'\n",
      "RDKit ERROR: [18:41:37] SMILES Parse Error: syntax error while parsing: C[C@@H](C(N[C@H](CCC(N[C@@H](CCCC([NH3+])[R])C(=O)N[C@H](C)C([O-])=O)=O)C([O-])=O)=O)NC([C@@H](C)O[C@H]2([C@H](O[C@@H]1(O[C@H](CO)[C@@H](O)[C@H](O)[C@@H](NC(=O)C)1))C3(COC([C@H](NC(=O)C)2)O3)))=O\n",
      "RDKit ERROR: [18:41:37] SMILES Parse Error: Failed parsing SMILES 'C[C@@H](C(N[C@H](CCC(N[C@@H](CCCC([NH3+])[R])C(=O)N[C@H](C)C([O-])=O)=O)C([O-])=O)=O)NC([C@@H](C)O[C@H]2([C@H](O[C@@H]1(O[C@H](CO)[C@@H](O)[C@H](O)[C@@H](NC(=O)C)1))C3(COC([C@H](NC(=O)C)2)O3)))=O' for input: 'C[C@@H](C(N[C@H](CCC(N[C@@H](CCCC([NH3+])[R])C(=O)N[C@H](C)C([O-])=O)=O)C([O-])=O)=O)NC([C@@H](C)O[C@H]2([C@H](O[C@@H]1(O[C@H](CO)[C@@H](O)[C@H](O)[C@@H](NC(=O)C)1))C3(COC([C@H](NC(=O)C)2)O3)))=O'\n",
      "RDKit ERROR: [18:41:38] SMILES Parse Error: syntax error while parsing: C([R])C(O)C(O)[C@H]2(CNC1(\\C(\\C(\\N=C(N)/N=1)=O)=N/2))\n",
      "RDKit ERROR: [18:41:38] SMILES Parse Error: Failed parsing SMILES 'C([R])C(O)C(O)[C@H]2(CNC1(\\C(\\C(\\N=C(N)/N=1)=O)=N/2))' for input: 'C([R])C(O)C(O)[C@H]2(CNC1(\\C(\\C(\\N=C(N)/N=1)=O)=N/2))'\n",
      "RDKit ERROR: [18:41:38] SMILES Parse Error: syntax error while parsing: COC(=O)C/C=C/C(=O)SCCNC(=O)CCNC([C@H](O)C(C)(C)COP(=O)([O-])OC[C@H](N[a\n",
      "RDKit ERROR: [18:41:38] SMILES Parse Error: Failed parsing SMILES 'COC(=O)C/C=C/C(=O)SCCNC(=O)CCNC([C@H](O)C(C)(C)COP(=O)([O-])OC[C@H](N[a' for input: 'COC(=O)C/C=C/C(=O)SCCNC(=O)CCNC([C@H](O)C(C)(C)COP(=O)([O-])OC[C@H](N[a'\n",
      "RDKit ERROR: [18:41:38] SMILES Parse Error: syntax error while parsing: COC(=O)CCC/C=C/C(=O)SCCNC(=O)CCNC([C@H](O)C(C)(C)COP(=O)([O-])OC[C@H](N[a\n",
      "RDKit ERROR: [18:41:38] SMILES Parse Error: Failed parsing SMILES 'COC(=O)CCC/C=C/C(=O)SCCNC(=O)CCNC([C@H](O)C(C)(C)COP(=O)([O-])OC[C@H](N[a' for input: 'COC(=O)CCC/C=C/C(=O)SCCNC(=O)CCNC([C@H](O)C(C)(C)COP(=O)([O-])OC[C@H](N[a'\n",
      "RDKit ERROR: [18:41:39] SMILES Parse Error: syntax error while parsing: C3([R3])(=O[Fe]12(O=C([R2])NO1)(O=C([R1])NO2)ON3)\n",
      "RDKit ERROR: [18:41:39] SMILES Parse Error: Failed parsing SMILES 'C3([R3])(=O[Fe]12(O=C([R2])NO1)(O=C([R1])NO2)ON3)' for input: 'C3([R3])(=O[Fe]12(O=C([R2])NO1)(O=C([R1])NO2)ON3)'\n",
      "RDKit ERROR: [18:41:39] SMILES Parse Error: syntax error while parsing: C3([R3])(=O[Fe]12(O=C([R2])NO1)(O=C([R1])NO2)ON3)\n",
      "RDKit ERROR: [18:41:39] SMILES Parse Error: Failed parsing SMILES 'C3([R3])(=O[Fe]12(O=C([R2])NO1)(O=C([R1])NO2)ON3)' for input: 'C3([R3])(=O[Fe]12(O=C([R2])NO1)(O=C([R1])NO2)ON3)'\n",
      "RDKit ERROR: [18:41:39] SMILES Parse Error: syntax error while parsing: C3([R3])(=O[Fe]12(O=C([R2])NO1)(O=C([R1])NO2)ON3)\n",
      "RDKit ERROR: [18:41:39] SMILES Parse Error: Failed parsing SMILES 'C3([R3])(=O[Fe]12(O=C([R2])NO1)(O=C([R1])NO2)ON3)' for input: 'C3([R3])(=O[Fe]12(O=C([R2])NO1)(O=C([R1])NO2)ON3)'\n",
      "RDKit ERROR: [18:41:39] SMILES Parse Error: syntax error while parsing: C([R3])(=O)N[O-].C([R1])(=O)N[O-].C([R2])(=O)N[O-]\n",
      "RDKit ERROR: [18:41:39] SMILES Parse Error: Failed parsing SMILES 'C([R3])(=O)N[O-].C([R1])(=O)N[O-].C([R2])(=O)N[O-]' for input: 'C([R3])(=O)N[O-].C([R1])(=O)N[O-].C([R2])(=O)N[O-]'\n",
      "RDKit ERROR: [18:41:39] SMILES Parse Error: syntax error while parsing: C([R3])(=O)N[O-].C([R1])(=O)N[O-].C([R2])(=O)N[O-]\n",
      "RDKit ERROR: [18:41:39] SMILES Parse Error: Failed parsing SMILES 'C([R3])(=O)N[O-].C([R1])(=O)N[O-].C([R2])(=O)N[O-]' for input: 'C([R3])(=O)N[O-].C([R1])(=O)N[O-].C([R2])(=O)N[O-]'\n",
      "RDKit ERROR: [18:41:39] SMILES Parse Error: syntax error while parsing: C([R3])(=O)N[O-].C([R1])(=O)N[O-].C([R2])(=O)N[O-]\n",
      "RDKit ERROR: [18:41:39] SMILES Parse Error: Failed parsing SMILES 'C([R3])(=O)N[O-].C([R1])(=O)N[O-].C([R2])(=O)N[O-]' for input: 'C([R3])(=O)N[O-].C([R1])(=O)N[O-].C([R2])(=O)N[O-]'\n",
      "RDKit ERROR: [18:41:39] SMILES Parse Error: syntax error while parsing: C(OC(=O)C(CCCCCCCCCCCCCCCCCCCCCCCC)[C@H](O)CCCCCCCCCCCCCCCCCC1(C(CCCCCCCCCCCCCCCCC(OC)C(C)CCCCCCCCCCCCCCCCCC)C1))[C@@H]2([C@@H](O)[C@H](O)[C@H](O[a\n",
      "RDKit ERROR: [18:41:39] SMILES Parse Error: Failed parsing SMILES 'C(OC(=O)C(CCCCCCCCCCCCCCCCCCCCCCCC)[C@H](O)CCCCCCCCCCCCCCCCCC1(C(CCCCCCCCCCCCCCCCC(OC)C(C)CCCCCCCCCCCCCCCCCC)C1))[C@@H]2([C@@H](O)[C@H](O)[C@H](O[a' for input: 'C(OC(=O)C(CCCCCCCCCCCCCCCCCCCCCCCC)[C@H](O)CCCCCCCCCCCCCCCCCC1(C(CCCCCCCCCCCCCCCCC(OC)C(C)CCCCCCCCCCCCCCCCCC)C1))[C@@H]2([C@@H](O)[C@H](O)[C@H](O[a'\n",
      "RDKit ERROR: [18:41:39] SMILES Parse Error: syntax error while parsing: C(OC(=O)C(CCCCCCCCCCCCCCCCCCCCCCCC)[C@H](O)CCCCCCCCCCCCCCCCCC1(C(CCCCCCCCCCCCCCCCC(OC)C(C)CCCCCCCCCCCCCCCCCC)C1))[C@@H]2([C@@H](O)[C@H](O)[C@H](O[a\n",
      "RDKit ERROR: [18:41:39] SMILES Parse Error: Failed parsing SMILES 'C(OC(=O)C(CCCCCCCCCCCCCCCCCCCCCCCC)[C@H](O)CCCCCCCCCCCCCCCCCC1(C(CCCCCCCCCCCCCCCCC(OC)C(C)CCCCCCCCCCCCCCCCCC)C1))[C@@H]2([C@@H](O)[C@H](O)[C@H](O[a' for input: 'C(OC(=O)C(CCCCCCCCCCCCCCCCCCCCCCCC)[C@H](O)CCCCCCCCCCCCCCCCCC1(C(CCCCCCCCCCCCCCCCC(OC)C(C)CCCCCCCCCCCCCCCCCC)C1))[C@@H]2([C@@H](O)[C@H](O)[C@H](O[a'\n",
      "RDKit ERROR: [18:41:39] SMILES Parse Error: syntax error while parsing: C(OC(=O)C(CCCCCCCCCCCCCCCCCCCCCCCC)[C@H](O)CCCCCCCCCCCCCCCCCC1(C(CCCCCCCCCCCCCCCCC(OC)C(C)CCCCCCCCCCCCCCCCCC)C1))[C@@H]2([C@@H](O)[C@H](O)[C@H](O[a\n",
      "RDKit ERROR: [18:41:39] SMILES Parse Error: Failed parsing SMILES 'C(OC(=O)C(CCCCCCCCCCCCCCCCCCCCCCCC)[C@H](O)CCCCCCCCCCCCCCCCCC1(C(CCCCCCCCCCCCCCCCC(OC)C(C)CCCCCCCCCCCCCCCCCC)C1))[C@@H]2([C@@H](O)[C@H](O)[C@H](O[a' for input: 'C(OC(=O)C(CCCCCCCCCCCCCCCCCCCCCCCC)[C@H](O)CCCCCCCCCCCCCCCCCC1(C(CCCCCCCCCCCCCCCCC(OC)C(C)CCCCCCCCCCCCCCCCCC)C1))[C@@H]2([C@@H](O)[C@H](O)[C@H](O[a'\n",
      "RDKit ERROR: [18:41:41] SMILES Parse Error: syntax error while parsing: C([C@H]%34(O[C@H](O[C@@H]1([C@H](O[C@@H]([C@@H]([C@@H](O)1)O)O[C@@H]%33([C@H](O[C@H](O[C@@H]2([C@H](O[C@@H]([C@@H]([C@@H](O)2)O)O[C@@H]%32([C@H](O[C@H](O[C@@H]3([C@H](O[C@@H]([C@@H]([C@@H](O)3)O)O[C@@H]%31([C@H](O[C@H](O[C@@H]%30([C@H](O[C@H](OC[C@@H]%28([C@@H](O[C@H]%27(O[C@@H]([C@@H](O[C@H]%26(O[C@@H]([C@@H](O[C@H]%25(O[C@@H]([C@@H](O[C@H]%24(O[C@@H]([C@@H](O[C@H]%23(O[C@@H]([C@@H](O[C@H]%22(O[C@@H]([C@@H](O[C@H]5(O[C@@H]([C@@H](O[C@H]4(O[C@@H]([C@@H](O[R1])[C@@H]([C@H]4O)O)CO))[C@@H]([C@H]5O)O)CO[C@H]%21(O[C@@H]([C@@H](O[C@H]%20(O[C@@H]([C@@H](O[C@H]%19(O[C@@H]([C@@H](O[C@H]%10(O[C@@H]([C@@H](O[C@H]9(O[C@@H]([C@@H](O[C@H]8(O[C@@H]([C@@H](O[C@H]7(O[C@@H]([C@@H](O[C@H]6(O[C@@H]([C@@H](O)[C@@H]([C@H]6O)O)CO))[C@@H]([C@H]7O)O)CO))[C@@H]([C@H]8O)O)CO))[C@@H]([C@H]9O)O)CO))[C@@H]([C@H]%10O)O)CO[C@H]%18(O[C@@H]([C@@H](O[C@H]%17(O[C@@H]([C@@H](O[C@H]%16(O[C@@H]([C@@H](O[C@H]%15(O[C@@H]([C@@H](O[C@H]%14(O[C@@H]([C@@H](O[... truncatedRDKit ERROR: [18:41:41] SMILES Parse Error: Failed parsing SMILES 'C([C@H]%34(O[C@H](O[C@@H]1([C@H](O[C@@H]([C@@H]([C@@H](O)1)O)O[C@@H]%33([C@H](O[C@H](O[C@@H]2([C@H](O[C@@H]([C@@H]([C@@H](O)2)O)O[C@@H]%32([C@H](O[C@H](O[C@@H]3([C@H](O[C@@H]([C@@H]([C@@H](O)3)O)O[C@@H]%31([C@H](O[C@H](O[C@@H]%30([C@H](O[C@H](OC[C@@H]%28([C@@H](O[C@H]%27(O[C@@H]([C@@H](O[C@H]%26(O[C@@H]([C@@H](O[C@H]%25(O[C@@H]([C@@H](O[C@H]%24(O[C@@H]([C@@H](O[C@H]%23(O[C@@H]([C@@H](O[C@H]%22(O[C@@H]([C@@H](O[C@H]5(O[C@@H]([C@@H](O[C@H]4(O[C@@H]([C@@H](O[R1])[C@@H]([C@H]4O)O)CO))[C@@H]([C@H]5O)O)CO[C@H]%21(O[C@@H]([C@@H](O[C@H]%20(O[C@@H]([C@@H](O[C@H]%19(O[C@@H]([C@@H](O[C@H]%10(O[C@@H]([C@@H](O[C@H]9(O[C@@H]([C@@H](O[C@H]8(O[C@@H]([C@@H](O[C@H]7(O[C@@H]([C@@H](O[C@H]6(O[C@@H]([C@@H](O)[C@@H]([C@H]6O)O)CO))[C@@H]([C@H]7O)O)CO))[C@@H]([C@H]8O)O)CO))[C@@H]([C@H]9O)O)CO))[C@@H]([C@H]%10O)O)CO[C@H]%18(O[C@@H]([C@@H](O[C@H]%17(O[C@@H]([C@@H](O[C@H]%16(O[C@@H]([C@@H](O[C@H]%15(O[C@@H]([C@@H](O[C@H]%14(O[C@@H]([C@@H](O[C@H]%... truncatedRDKit ERROR: [18:41:41] SMILES Parse Error: syntax error while parsing: COC(=O)CCCC(=O)SCCNC(=O)CCNC([C@H](O)C(C)(C)COP(=O)([O-])OC[C@H](N[a\n",
      "RDKit ERROR: [18:41:41] SMILES Parse Error: Failed parsing SMILES 'COC(=O)CCCC(=O)SCCNC(=O)CCNC([C@H](O)C(C)(C)COP(=O)([O-])OC[C@H](N[a' for input: 'COC(=O)CCCC(=O)SCCNC(=O)CCNC([C@H](O)C(C)(C)COP(=O)([O-])OC[C@H](N[a'\n",
      "RDKit WARNING: [18:41:41] WARNING: not removing hydrogen atom without neighbors\n",
      "RDKit WARNING: [18:41:41] WARNING: not removing hydrogen atom without neighbors\n",
      "RDKit WARNING: [18:41:41] WARNING: not removing hydrogen atom without neighbors\n"
     ]
    },
    {
     "name": "stderr",
     "output_type": "stream",
     "text": [
      "RDKit WARNING: [18:41:41] WARNING: not removing hydrogen atom without neighbors\n",
      "RDKit WARNING: [18:41:41] WARNING: not removing hydrogen atom without neighbors\n",
      "RDKit WARNING: [18:41:41] WARNING: not removing hydrogen atom without neighbors\n",
      "RDKit ERROR: [18:41:41] SMILES Parse Error: syntax error while parsing: C([R])[C@H](CC(=O)SCCNC(=O)CCNC([C@H](O)C(C)(C)COP(=O)([O-])OC[C@H](N[a\n",
      "RDKit ERROR: [18:41:41] SMILES Parse Error: Failed parsing SMILES 'C([R])[C@H](CC(=O)SCCNC(=O)CCNC([C@H](O)C(C)(C)COP(=O)([O-])OC[C@H](N[a' for input: 'C([R])[C@H](CC(=O)SCCNC(=O)CCNC([C@H](O)C(C)(C)COP(=O)([O-])OC[C@H](N[a'\n",
      "RDKit ERROR: [18:41:41] SMILES Parse Error: syntax error while parsing: COC(=O)CCC[C@@H](O)CC(=O)SCCNC(=O)CCNC([C@H](O)C(C)(C)COP(=O)([O-])OC[C@H](N[a\n",
      "RDKit ERROR: [18:41:41] SMILES Parse Error: Failed parsing SMILES 'COC(=O)CCC[C@@H](O)CC(=O)SCCNC(=O)CCNC([C@H](O)C(C)(C)COP(=O)([O-])OC[C@H](N[a' for input: 'COC(=O)CCC[C@@H](O)CC(=O)SCCNC(=O)CCNC([C@H](O)C(C)(C)COP(=O)([O-])OC[C@H](N[a'\n",
      "RDKit ERROR: [18:41:42] SMILES Parse Error: syntax error while parsing: C(CC(=O)[O-])(=O)SCCNC(=O)CCNC([C@H](O)C(C)(C)COP(=O)([O-])OC[C@H](N[a\n",
      "RDKit ERROR: [18:41:42] SMILES Parse Error: Failed parsing SMILES 'C(CC(=O)[O-])(=O)SCCNC(=O)CCNC([C@H](O)C(C)(C)COP(=O)([O-])OC[C@H](N[a' for input: 'C(CC(=O)[O-])(=O)SCCNC(=O)CCNC([C@H](O)C(C)(C)COP(=O)([O-])OC[C@H](N[a'\n",
      "RDKit ERROR: [18:41:43] SMILES Parse Error: syntax error while parsing: C([R2])(O)([R3])[R1]\n",
      "RDKit ERROR: [18:41:43] SMILES Parse Error: Failed parsing SMILES 'C([R2])(O)([R3])[R1]' for input: 'C([R2])(O)([R3])[R1]'\n",
      "RDKit ERROR: [18:41:43] SMILES Parse Error: syntax error while parsing: C([R2])(O)([R3])[R1]\n",
      "RDKit ERROR: [18:41:43] SMILES Parse Error: Failed parsing SMILES 'C([R2])(O)([R3])[R1]' for input: 'C([R2])(O)([R3])[R1]'\n",
      "RDKit ERROR: [18:41:43] SMILES Parse Error: syntax error while parsing: C([R2])(O)([R3])[R1]\n",
      "RDKit ERROR: [18:41:43] SMILES Parse Error: Failed parsing SMILES 'C([R2])(O)([R3])[R1]' for input: 'C([R2])(O)([R3])[R1]'\n",
      "RDKit ERROR: [18:41:43] SMILES Parse Error: syntax error while parsing: C1([R1])(=C([R4])C(/O)=C([R3])\\C(/[R2])=C1\\O)\n",
      "RDKit ERROR: [18:41:43] SMILES Parse Error: Failed parsing SMILES 'C1([R1])(=C([R4])C(/O)=C([R3])\\C(/[R2])=C1\\O)' for input: 'C1([R1])(=C([R4])C(/O)=C([R3])\\C(/[R2])=C1\\O)'\n",
      "RDKit ERROR: [18:41:43] SMILES Parse Error: syntax error while parsing: C1([R1])(=C([R4])C(=O)C(/[R3])=C([R2])/C(=O)1)\n",
      "RDKit ERROR: [18:41:43] SMILES Parse Error: Failed parsing SMILES 'C1([R1])(=C([R4])C(=O)C(/[R3])=C([R2])/C(=O)1)' for input: 'C1([R1])(=C([R4])C(=O)C(/[R3])=C([R2])/C(=O)1)'\n",
      "RDKit ERROR: [18:41:43] SMILES Parse Error: syntax error while parsing: C[C@@H](C(=O)N[C@@H](C(=O)[O-])CCC(=O)N[C@@H](CCC[C@@H]([NH3+])C(=O)[O-])C(N[C@H](C)C([O-])=O)=O)NC(=O)[C@@H](C)O[C@H]4([C@H](O[C@@H]3(O[C@H](CO)[C@@H](O[C@H]2([C@H](NC(=O)C)[C@@H](O[C@H](C)C(=O)N[C@@H](C)C(=O)N[C@@H](C(=O)[O-])CCC(=O)N[C@@H](CCC[C@@H]([NH3+])C(=O)[O-])C(N[C@H](C)C([O-])=O)=O)[C@H](O[C@@H]1(O[C@H](CO)[C@@H](O[R2])[C@H](O)[C@@H](NC(=O)C)1))[C@@H](CO)O2))[C@H](O)[C@@H](NC(=O)C)3))[C@@H](CO)OC(O[R1])[C@H](NC(=O)C)4)\n",
      "RDKit ERROR: [18:41:43] SMILES Parse Error: Failed parsing SMILES 'C[C@@H](C(=O)N[C@@H](C(=O)[O-])CCC(=O)N[C@@H](CCC[C@@H]([NH3+])C(=O)[O-])C(N[C@H](C)C([O-])=O)=O)NC(=O)[C@@H](C)O[C@H]4([C@H](O[C@@H]3(O[C@H](CO)[C@@H](O[C@H]2([C@H](NC(=O)C)[C@@H](O[C@H](C)C(=O)N[C@@H](C)C(=O)N[C@@H](C(=O)[O-])CCC(=O)N[C@@H](CCC[C@@H]([NH3+])C(=O)[O-])C(N[C@H](C)C([O-])=O)=O)[C@H](O[C@@H]1(O[C@H](CO)[C@@H](O[R2])[C@H](O)[C@@H](NC(=O)C)1))[C@@H](CO)O2))[C@H](O)[C@@H](NC(=O)C)3))[C@@H](CO)OC(O[R1])[C@H](NC(=O)C)4)' for input: 'C[C@@H](C(=O)N[C@@H](C(=O)[O-])CCC(=O)N[C@@H](CCC[C@@H]([NH3+])C(=O)[O-])C(N[C@H](C)C([O-])=O)=O)NC(=O)[C@@H](C)O[C@H]4([C@H](O[C@@H]3(O[C@H](CO)[C@@H](O[C@H]2([C@H](NC(=O)C)[C@@H](O[C@H](C)C(=O)N[C@@H](C)C(=O)N[C@@H](C(=O)[O-])CCC(=O)N[C@@H](CCC[C@@H]([NH3+])C(=O)[O-])C(N[C@H](C)C([O-])=O)=O)[C@H](O[C@@H]1(O[C@H](CO)[C@@H](O[R2])[C@H](O)[C@@H](NC(=O)C)1))[C@@H](CO)O2))[C@H](O)[C@@H](NC(=O)C)3))[C@@H](CO)OC(O[R1])[C@H](NC(=O)C)4)'\n",
      "RDKit ERROR: [18:41:43] SMILES Parse Error: syntax error while parsing: C[C@H](C(=O)N[C@H](C)C([O-])=O)NC(=O)[C@H](CCC[C@@H]([NH3+])C(=O)[O-])NC(=O)CC[C@H](C(=O)[O-])NC(=O)[C@H](C)NC(=O)[C@@H](C)O[C@H]4([C@H](O[C@@H]3(O[C@H](CO)[C@@H](O[C@@H]2([C@H](NC(=O)C)[C@@H](O[C@H](C)C(=O)N[C@@H](C)C(=O)N[C@@H](C(=O)[O-])CCC(=O)N[C@@H](CCC[C@@H]([NH3+])C(=O)[O-])C(N[C@H](C)C(=O)N[C@H](C)C([O-])=O)=O)[C@H](O[C@@H]1(O[C@H](CO)[C@@H](O[R2])[C@H](O)[C@@H](NC(=O)C)1))[C@@H](CO)O2))[C@H](O)[C@@H](NC(=O)C)3))[C@@H](CO)O[C@@H]([C@H](NC(=O)C)4)O[R1])\n",
      "RDKit ERROR: [18:41:43] SMILES Parse Error: Failed parsing SMILES 'C[C@H](C(=O)N[C@H](C)C([O-])=O)NC(=O)[C@H](CCC[C@@H]([NH3+])C(=O)[O-])NC(=O)CC[C@H](C(=O)[O-])NC(=O)[C@H](C)NC(=O)[C@@H](C)O[C@H]4([C@H](O[C@@H]3(O[C@H](CO)[C@@H](O[C@@H]2([C@H](NC(=O)C)[C@@H](O[C@H](C)C(=O)N[C@@H](C)C(=O)N[C@@H](C(=O)[O-])CCC(=O)N[C@@H](CCC[C@@H]([NH3+])C(=O)[O-])C(N[C@H](C)C(=O)N[C@H](C)C([O-])=O)=O)[C@H](O[C@@H]1(O[C@H](CO)[C@@H](O[R2])[C@H](O)[C@@H](NC(=O)C)1))[C@@H](CO)O2))[C@H](O)[C@@H](NC(=O)C)3))[C@@H](CO)O[C@@H]([C@H](NC(=O)C)4)O[R1])' for input: 'C[C@H](C(=O)N[C@H](C)C([O-])=O)NC(=O)[C@H](CCC[C@@H]([NH3+])C(=O)[O-])NC(=O)CC[C@H](C(=O)[O-])NC(=O)[C@H](C)NC(=O)[C@@H](C)O[C@H]4([C@H](O[C@@H]3(O[C@H](CO)[C@@H](O[C@@H]2([C@H](NC(=O)C)[C@@H](O[C@H](C)C(=O)N[C@@H](C)C(=O)N[C@@H](C(=O)[O-])CCC(=O)N[C@@H](CCC[C@@H]([NH3+])C(=O)[O-])C(N[C@H](C)C(=O)N[C@H](C)C([O-])=O)=O)[C@H](O[C@@H]1(O[C@H](CO)[C@@H](O[R2])[C@H](O)[C@@H](NC(=O)C)1))[C@@H](CO)O2))[C@H](O)[C@@H](NC(=O)C)3))[C@@H](CO)O[C@@H]([C@H](NC(=O)C... truncatedRDKit ERROR: [18:41:44] SMILES Parse Error: syntax error while parsing: CC(=O)OC1(\\C(/[R5])=C([R4])/C(\\[R3])=C([R2])\\C(/[R1])=1)\n",
      "RDKit ERROR: [18:41:44] SMILES Parse Error: Failed parsing SMILES 'CC(=O)OC1(\\C(/[R5])=C([R4])/C(\\[R3])=C([R2])\\C(/[R1])=1)' for input: 'CC(=O)OC1(\\C(/[R5])=C([R4])/C(\\[R3])=C([R2])\\C(/[R1])=1)'\n",
      "RDKit ERROR: [18:41:44] SMILES Parse Error: syntax error while parsing: C(CCCCCC([O-])=O)(=O)SCCNC(=O)CCNC([C@H](O)C(C)(C)COP(=O)([O-])OC[C@H](N[a\n",
      "RDKit ERROR: [18:41:44] SMILES Parse Error: Failed parsing SMILES 'C(CCCCCC([O-])=O)(=O)SCCNC(=O)CCNC([C@H](O)C(C)(C)COP(=O)([O-])OC[C@H](N[a' for input: 'C(CCCCCC([O-])=O)(=O)SCCNC(=O)CCNC([C@H](O)C(C)(C)COP(=O)([O-])OC[C@H](N[a'\n",
      "RDKit ERROR: [18:41:44] SMILES Parse Error: syntax error while parsing: COC(=O)CCCCCC(=O)SCCNC(=O)CCNC([C@H](O)C(C)(C)COP(=O)([O-])OC[C@H](N[a\n",
      "RDKit ERROR: [18:41:44] SMILES Parse Error: Failed parsing SMILES 'COC(=O)CCCCCC(=O)SCCNC(=O)CCNC([C@H](O)C(C)(C)COP(=O)([O-])OC[C@H](N[a' for input: 'COC(=O)CCCCCC(=O)SCCNC(=O)CCNC([C@H](O)C(C)(C)COP(=O)([O-])OC[C@H](N[a'\n",
      "RDKit ERROR: [18:41:45] SMILES Parse Error: syntax error while parsing: C1([R1])(=C([R4])C(=O)C(/[R3])=C([R2])/C(=O)1)\n",
      "RDKit ERROR: [18:41:45] SMILES Parse Error: Failed parsing SMILES 'C1([R1])(=C([R4])C(=O)C(/[R3])=C([R2])/C(=O)1)' for input: 'C1([R1])(=C([R4])C(=O)C(/[R3])=C([R2])/C(=O)1)'\n",
      "RDKit ERROR: [18:41:45] SMILES Parse Error: syntax error while parsing: C1([R1])(=C([R4])C(/O)=C([R3])\\C(/[R2])=C1\\O)\n",
      "RDKit ERROR: [18:41:45] SMILES Parse Error: Failed parsing SMILES 'C1([R1])(=C([R4])C(/O)=C([R3])\\C(/[R2])=C1\\O)' for input: 'C1([R1])(=C([R4])C(/O)=C([R3])\\C(/[R2])=C1\\O)'\n",
      "RDKit ERROR: [18:41:45] SMILES Parse Error: syntax error while parsing: CCCCCCCCC/C=C/C(=O)SCCNC(=O)CCNC([C@H](O)C(C)(C)COP(=O)([O-])OC[C@H](N[a\n",
      "RDKit ERROR: [18:41:45] SMILES Parse Error: Failed parsing SMILES 'CCCCCCCCC/C=C/C(=O)SCCNC(=O)CCNC([C@H](O)C(C)(C)COP(=O)([O-])OC[C@H](N[a' for input: 'CCCCCCCCC/C=C/C(=O)SCCNC(=O)CCNC([C@H](O)C(C)(C)COP(=O)([O-])OC[C@H](N[a'\n",
      "RDKit ERROR: [18:41:45] SMILES Parse Error: syntax error while parsing: CCC/C=C/C(=O)SCCNC(=O)CCNC([C@H](O)C(C)(C)COP(=O)([O-])OC[C@H](N[a\n",
      "RDKit ERROR: [18:41:45] SMILES Parse Error: Failed parsing SMILES 'CCC/C=C/C(=O)SCCNC(=O)CCNC([C@H](O)C(C)(C)COP(=O)([O-])OC[C@H](N[a' for input: 'CCC/C=C/C(=O)SCCNC(=O)CCNC([C@H](O)C(C)(C)COP(=O)([O-])OC[C@H](N[a'\n",
      "RDKit ERROR: [18:41:45] SMILES Parse Error: syntax error while parsing: C([R])C(O)C(O)[C@H]2(CNC1(\\C(C(\\N=C(N)/N=1)=O)N2))\n",
      "RDKit ERROR: [18:41:45] SMILES Parse Error: Failed parsing SMILES 'C([R])C(O)C(O)[C@H]2(CNC1(\\C(C(\\N=C(N)/N=1)=O)N2))' for input: 'C([R])C(O)C(O)[C@H]2(CNC1(\\C(C(\\N=C(N)/N=1)=O)N2))'\n",
      "RDKit ERROR: [18:41:46] SMILES Parse Error: syntax error while parsing: CCCCCCCCCCC/C=C/C(SCCNC(=O)CCNC([C@H](O)C(C)(C)COP(=O)([O-])OC[C@H](N[a\n",
      "RDKit ERROR: [18:41:46] SMILES Parse Error: Failed parsing SMILES 'CCCCCCCCCCC/C=C/C(SCCNC(=O)CCNC([C@H](O)C(C)(C)COP(=O)([O-])OC[C@H](N[a' for input: 'CCCCCCCCCCC/C=C/C(SCCNC(=O)CCNC([C@H](O)C(C)(C)COP(=O)([O-])OC[C@H](N[a'\n",
      "RDKit ERROR: [18:41:46] SMILES Parse Error: syntax error while parsing: CCCCC/C=C/C(=O)SCCNC(=O)CCNC([C@H](O)C(C)(C)COP(=O)([O-])OC[C@H](N[a\n",
      "RDKit ERROR: [18:41:46] SMILES Parse Error: Failed parsing SMILES 'CCCCC/C=C/C(=O)SCCNC(=O)CCNC([C@H](O)C(C)(C)COP(=O)([O-])OC[C@H](N[a' for input: 'CCCCC/C=C/C(=O)SCCNC(=O)CCNC([C@H](O)C(C)(C)COP(=O)([O-])OC[C@H](N[a'\n",
      "RDKit ERROR: [18:41:46] SMILES Parse Error: syntax error while parsing: CCCCCCCCCCCCCCC/C=C/C(SCCNC(=O)CCNC([C@H](O)C(C)(C)COP(=O)([O-])OC[C@H](N[a\n",
      "RDKit ERROR: [18:41:46] SMILES Parse Error: Failed parsing SMILES 'CCCCCCCCCCCCCCC/C=C/C(SCCNC(=O)CCNC([C@H](O)C(C)(C)COP(=O)([O-])OC[C@H](N[a' for input: 'CCCCCCCCCCCCCCC/C=C/C(SCCNC(=O)CCNC([C@H](O)C(C)(C)COP(=O)([O-])OC[C@H](N[a'\n",
      "RDKit ERROR: [18:41:46] SMILES Parse Error: syntax error while parsing: CCCCCCCCCCCCC/C=C/C(SCCNC(=O)CCNC([C@H](O)C(C)(C)COP(=O)([O-])OC[C@H](N[a\n",
      "RDKit ERROR: [18:41:46] SMILES Parse Error: Failed parsing SMILES 'CCCCCCCCCCCCC/C=C/C(SCCNC(=O)CCNC([C@H](O)C(C)(C)COP(=O)([O-])OC[C@H](N[a' for input: 'CCCCCCCCCCCCC/C=C/C(SCCNC(=O)CCNC([C@H](O)C(C)(C)COP(=O)([O-])OC[C@H](N[a'\n",
      "RDKit ERROR: [18:41:46] SMILES Parse Error: syntax error while parsing: C1(=O)(NC([R2])C(=O)NC(CSSCC(N[a\n",
      "RDKit ERROR: [18:41:46] SMILES Parse Error: Failed parsing SMILES 'C1(=O)(NC([R2])C(=O)NC(CSSCC(N[a' for input: 'C1(=O)(NC([R2])C(=O)NC(CSSCC(N[a'\n",
      "RDKit ERROR: [18:41:46] SMILES Parse Error: syntax error while parsing: C(S)C(C(=O)NC([R1])C(=O)NC([R2])C(=O)NC(CS)C(=O)[a\n",
      "RDKit ERROR: [18:41:46] SMILES Parse Error: Failed parsing SMILES 'C(S)C(C(=O)NC([R1])C(=O)NC([R2])C(=O)NC(CS)C(=O)[a' for input: 'C(S)C(C(=O)NC([R1])C(=O)NC([R2])C(=O)NC(CS)C(=O)[a'\n"
     ]
    },
    {
     "name": "stderr",
     "output_type": "stream",
     "text": [
      "RDKit ERROR: [18:41:46] SMILES Parse Error: syntax error while parsing: C(OP([O-])(=O)O[a\n",
      "RDKit ERROR: [18:41:46] SMILES Parse Error: Failed parsing SMILES 'C(OP([O-])(=O)O[a' for input: 'C(OP([O-])(=O)O[a'\n"
     ]
    },
    {
     "name": "stdout",
     "output_type": "stream",
     "text": [
      "72\n"
     ]
    }
   ],
   "source": [
    "for metabolite in Metabolites.objects.exclude(smiles=None):\n",
    "    try:\n",
    "        mol = Chem.MolFromSmiles(metabolite.smiles)\n",
    "        filename = metabolite.id+'.png'\n",
    "        img=Draw.MolToFile(mol, os.path.join(STATICFILES_DIRS[0], 'images','2D_molecule',filename))\n",
    "    except:\n",
    "        count+=1"
   ]
  },
  {
   "cell_type": "markdown",
   "metadata": {},
   "source": [
    "###### adding PDB files from Mol"
   ]
  },
  {
   "cell_type": "code",
   "execution_count": 8,
   "metadata": {},
   "outputs": [
    {
     "name": "stderr",
     "output_type": "stream",
     "text": [
      "RDKit ERROR: [09:10:17] SMILES Parse Error: syntax error while parsing: C(O)[C@H]1(O[C@@H]([C@H](O)[C@@H](O)[C@H](O[R1])1)O[C@H]4([C@H](O)[C@@H](O)[C@@H](O[C@H]2([C@H](O)[C@@H](O)[C@H](O[C@H](CO)2)O[C@H]3([C@H](O)[C@@H](O)[C@@H](O[R2])O[C@H](CO)3)))O[C@H](CO)4))\n",
      "RDKit ERROR: [09:10:17] SMILES Parse Error: Failed parsing SMILES 'C(O)[C@H]1(O[C@@H]([C@H](O)[C@@H](O)[C@H](O[R1])1)O[C@H]4([C@H](O)[C@@H](O)[C@@H](O[C@H]2([C@H](O)[C@@H](O)[C@H](O[C@H](CO)2)O[C@H]3([C@H](O)[C@@H](O)[C@@H](O[R2])O[C@H](CO)3)))O[C@H](CO)4))' for input: 'C(O)[C@H]1(O[C@@H]([C@H](O)[C@@H](O)[C@H](O[R1])1)O[C@H]4([C@H](O)[C@@H](O)[C@@H](O[C@H]2([C@H](O)[C@@H](O)[C@H](O[C@H](CO)2)O[C@H]3([C@H](O)[C@@H](O)[C@@H](O[R2])O[C@H](CO)3)))O[C@H](CO)4))'\n",
      "RDKit ERROR: [09:10:17] SMILES Parse Error: syntax error while parsing: C(O)[C@H]1(O[C@@H]([C@H](O)[C@@H](O)[C@H](O[R1])1)O[C@H]4([C@H](O)[C@@H](O)[C@@H](O[C@H]2([C@H](O)[C@@H](O)[C@H](O[C@H](CO)2)O[C@H]3([C@H](O)[C@@H](O)[C@@H](O[R2])O[C@H](CO)3)))O[C@H](CO)4))\n",
      "RDKit ERROR: [09:10:17] SMILES Parse Error: Failed parsing SMILES 'C(O)[C@H]1(O[C@@H]([C@H](O)[C@@H](O)[C@H](O[R1])1)O[C@H]4([C@H](O)[C@@H](O)[C@@H](O[C@H]2([C@H](O)[C@@H](O)[C@H](O[C@H](CO)2)O[C@H]3([C@H](O)[C@@H](O)[C@@H](O[R2])O[C@H](CO)3)))O[C@H](CO)4))' for input: 'C(O)[C@H]1(O[C@@H]([C@H](O)[C@@H](O)[C@H](O[R1])1)O[C@H]4([C@H](O)[C@@H](O)[C@@H](O[C@H]2([C@H](O)[C@@H](O)[C@H](O[C@H](CO)2)O[C@H]3([C@H](O)[C@@H](O)[C@@H](O[R2])O[C@H](CO)3)))O[C@H](CO)4))'\n",
      "RDKit ERROR: [09:10:17] SMILES Parse Error: syntax error while parsing: C(O)[C@H]1(O[C@@H]([C@H](O)[C@@H](O)[C@H](O[R1])1)O[C@H]4([C@H](O)[C@@H](O)[C@@H](O[C@H]2([C@H](O)[C@@H](O)[C@H](O[C@H](CO)2)O[C@H]3([C@H](O)[C@@H](O)[C@@H](O[R2])O[C@H](CO)3)))O[C@H](CO)4))\n",
      "RDKit ERROR: [09:10:17] SMILES Parse Error: Failed parsing SMILES 'C(O)[C@H]1(O[C@@H]([C@H](O)[C@@H](O)[C@H](O[R1])1)O[C@H]4([C@H](O)[C@@H](O)[C@@H](O[C@H]2([C@H](O)[C@@H](O)[C@H](O[C@H](CO)2)O[C@H]3([C@H](O)[C@@H](O)[C@@H](O[R2])O[C@H](CO)3)))O[C@H](CO)4))' for input: 'C(O)[C@H]1(O[C@@H]([C@H](O)[C@@H](O)[C@H](O[R1])1)O[C@H]4([C@H](O)[C@@H](O)[C@@H](O[C@H]2([C@H](O)[C@@H](O)[C@H](O[C@H](CO)2)O[C@H]3([C@H](O)[C@@H](O)[C@@H](O[R2])O[C@H](CO)3)))O[C@H](CO)4))'\n",
      "RDKit ERROR: [09:10:23] SMILES Parse Error: syntax error while parsing: C([R])(=O)C([O-])=O\n",
      "RDKit ERROR: [09:10:23] SMILES Parse Error: Failed parsing SMILES 'C([R])(=O)C([O-])=O' for input: 'C([R])(=O)C([O-])=O'\n",
      "RDKit ERROR: [09:10:23] SMILES Parse Error: syntax error while parsing: C([R])(=O)C([O-])=O\n",
      "RDKit ERROR: [09:10:23] SMILES Parse Error: Failed parsing SMILES 'C([R])(=O)C([O-])=O' for input: 'C([R])(=O)C([O-])=O'\n",
      "RDKit ERROR: [09:10:23] SMILES Parse Error: syntax error while parsing: C([R])(=O)C([O-])=O\n",
      "RDKit ERROR: [09:10:23] SMILES Parse Error: Failed parsing SMILES 'C([R])(=O)C([O-])=O' for input: 'C([R])(=O)C([O-])=O'\n",
      "RDKit ERROR: [09:10:23] SMILES Parse Error: syntax error while parsing: C([R])(=O)C([O-])=O\n",
      "RDKit ERROR: [09:10:23] SMILES Parse Error: Failed parsing SMILES 'C([R])(=O)C([O-])=O' for input: 'C([R])(=O)C([O-])=O'\n",
      "RDKit ERROR: [09:10:23] SMILES Parse Error: syntax error while parsing: C1([R1])(=C([R4])C(=O)C(/[R3])=C([R2])/C(=O)1)\n",
      "RDKit ERROR: [09:10:23] SMILES Parse Error: Failed parsing SMILES 'C1([R1])(=C([R4])C(=O)C(/[R3])=C([R2])/C(=O)1)' for input: 'C1([R1])(=C([R4])C(=O)C(/[R3])=C([R2])/C(=O)1)'\n",
      "RDKit ERROR: [09:10:23] SMILES Parse Error: syntax error while parsing: C1([R1])(=C([R4])C(/O)=C([R3])\\C(/[R2])=C1\\O)\n",
      "RDKit ERROR: [09:10:23] SMILES Parse Error: Failed parsing SMILES 'C1([R1])(=C([R4])C(/O)=C([R3])\\C(/[R2])=C1\\O)' for input: 'C1([R1])(=C([R4])C(/O)=C([R3])\\C(/[R2])=C1\\O)'\n",
      "RDKit ERROR: [09:10:24] SMILES Parse Error: syntax error while parsing: C([R])(=O)C([O-])=O\n",
      "RDKit ERROR: [09:10:24] SMILES Parse Error: Failed parsing SMILES 'C([R])(=O)C([O-])=O' for input: 'C([R])(=O)C([O-])=O'\n",
      "RDKit ERROR: [09:10:25] SMILES Parse Error: syntax error while parsing: C1([R1])(=C([R4])C(/O)=C([R3])\\C(/[R2])=C1\\O)\n",
      "RDKit ERROR: [09:10:25] SMILES Parse Error: Failed parsing SMILES 'C1([R1])(=C([R4])C(/O)=C([R3])\\C(/[R2])=C1\\O)' for input: 'C1([R1])(=C([R4])C(/O)=C([R3])\\C(/[R2])=C1\\O)'\n",
      "RDKit ERROR: [09:10:28] SMILES Parse Error: syntax error while parsing: C([R])(=O)C([O-])=O\n",
      "RDKit ERROR: [09:10:28] SMILES Parse Error: Failed parsing SMILES 'C([R])(=O)C([O-])=O' for input: 'C([R])(=O)C([O-])=O'\n",
      "RDKit ERROR: [09:10:28] SMILES Parse Error: syntax error while parsing: C([R])[C@H](CC(=O)SCCNC(=O)CCNC([C@H](O)C(C)(C)COP(=O)([O-])OC[C@H](N[a\n",
      "RDKit ERROR: [09:10:28] SMILES Parse Error: Failed parsing SMILES 'C([R])[C@H](CC(=O)SCCNC(=O)CCNC([C@H](O)C(C)(C)COP(=O)([O-])OC[C@H](N[a' for input: 'C([R])[C@H](CC(=O)SCCNC(=O)CCNC([C@H](O)C(C)(C)COP(=O)([O-])OC[C@H](N[a'\n",
      "RDKit ERROR: [09:10:31] SMILES Parse Error: syntax error while parsing: C([R])[C@H](CC(=O)SCCNC(=O)CCNC([C@H](O)C(C)(C)COP(=O)([O-])OC[C@H](N[a\n",
      "RDKit ERROR: [09:10:31] SMILES Parse Error: Failed parsing SMILES 'C([R])[C@H](CC(=O)SCCNC(=O)CCNC([C@H](O)C(C)(C)COP(=O)([O-])OC[C@H](N[a' for input: 'C([R])[C@H](CC(=O)SCCNC(=O)CCNC([C@H](O)C(C)(C)COP(=O)([O-])OC[C@H](N[a'\n",
      "RDKit ERROR: [09:10:34] SMILES Parse Error: syntax error while parsing: C([R])[C@H](CC(=O)SCCNC(=O)CCNC([C@H](O)C(C)(C)COP(=O)([O-])OC[C@H](N[a\n",
      "RDKit ERROR: [09:10:34] SMILES Parse Error: Failed parsing SMILES 'C([R])[C@H](CC(=O)SCCNC(=O)CCNC([C@H](O)C(C)(C)COP(=O)([O-])OC[C@H](N[a' for input: 'C([R])[C@H](CC(=O)SCCNC(=O)CCNC([C@H](O)C(C)(C)COP(=O)([O-])OC[C@H](N[a'\n",
      "RDKit ERROR: [09:10:34] SMILES Parse Error: syntax error while parsing: C([R])[C@H](CC(=O)SCCNC(=O)CCNC([C@H](O)C(C)(C)COP(=O)([O-])OC[C@H](N[a\n",
      "RDKit ERROR: [09:10:34] SMILES Parse Error: Failed parsing SMILES 'C([R])[C@H](CC(=O)SCCNC(=O)CCNC([C@H](O)C(C)(C)COP(=O)([O-])OC[C@H](N[a' for input: 'C([R])[C@H](CC(=O)SCCNC(=O)CCNC([C@H](O)C(C)(C)COP(=O)([O-])OC[C@H](N[a'\n",
      "RDKit ERROR: [09:10:36] SMILES Parse Error: syntax error while parsing: C([R])(=O)C([O-])=O\n",
      "RDKit ERROR: [09:10:36] SMILES Parse Error: Failed parsing SMILES 'C([R])(=O)C([O-])=O' for input: 'C([R])(=O)C([O-])=O'\n",
      "RDKit ERROR: [09:10:36] SMILES Parse Error: syntax error while parsing: C([R])(=O)C([O-])=O\n",
      "RDKit ERROR: [09:10:36] SMILES Parse Error: Failed parsing SMILES 'C([R])(=O)C([O-])=O' for input: 'C([R])(=O)C([O-])=O'\n",
      "RDKit ERROR: [09:10:37] SMILES Parse Error: syntax error while parsing: CCCCCCCCCC(=O)CC(=O)SCCNC(=O)CCNC([C@H](O)C(C)(C)COP(=O)([O-])OC[C@H](N[a\n",
      "RDKit ERROR: [09:10:37] SMILES Parse Error: Failed parsing SMILES 'CCCCCCCCCC(=O)CC(=O)SCCNC(=O)CCNC([C@H](O)C(C)(C)COP(=O)([O-])OC[C@H](N[a' for input: 'CCCCCCCCCC(=O)CC(=O)SCCNC(=O)CCNC([C@H](O)C(C)(C)COP(=O)([O-])OC[C@H](N[a'\n",
      "RDKit ERROR: [09:10:37] SMILES Parse Error: syntax error while parsing: CCCCCCCC(=O)CC(SCCNC(=O)CCNC([C@H](O)C(C)(C)COP(=O)([O-])OC[C@H](N[a\n",
      "RDKit ERROR: [09:10:37] SMILES Parse Error: Failed parsing SMILES 'CCCCCCCC(=O)CC(SCCNC(=O)CCNC([C@H](O)C(C)(C)COP(=O)([O-])OC[C@H](N[a' for input: 'CCCCCCCC(=O)CC(SCCNC(=O)CCNC([C@H](O)C(C)(C)COP(=O)([O-])OC[C@H](N[a'\n",
      "RDKit ERROR: [09:10:40] SMILES Parse Error: syntax error while parsing: CCCC(=O)CC(=O)SCCNC(=O)CCNC([C@H](O)C(C)(C)COP(=O)([O-])OC[C@H](N[a\n",
      "RDKit ERROR: [09:10:40] SMILES Parse Error: Failed parsing SMILES 'CCCC(=O)CC(=O)SCCNC(=O)CCNC([C@H](O)C(C)(C)COP(=O)([O-])OC[C@H](N[a' for input: 'CCCC(=O)CC(=O)SCCNC(=O)CCNC([C@H](O)C(C)(C)COP(=O)([O-])OC[C@H](N[a'\n",
      "RDKit ERROR: [09:10:40] SMILES Parse Error: syntax error while parsing: CCCCCCCCCCCC(=O)CC(=O)SCCNC(=O)CCNC([C@H](O)C(C)(C)COP(=O)([O-])OC[C@H](N[a\n",
      "RDKit ERROR: [09:10:40] SMILES Parse Error: Failed parsing SMILES 'CCCCCCCCCCCC(=O)CC(=O)SCCNC(=O)CCNC([C@H](O)C(C)(C)COP(=O)([O-])OC[C@H](N[a' for input: 'CCCCCCCCCCCC(=O)CC(=O)SCCNC(=O)CCNC([C@H](O)C(C)(C)COP(=O)([O-])OC[C@H](N[a'\n",
      "RDKit ERROR: [09:10:41] SMILES Parse Error: syntax error while parsing: CCCCCC(=O)CC(=O)SCCNC(=O)CCNC([C@H](O)C(C)(C)COP(=O)([O-])OC[C@H](N[a\n",
      "RDKit ERROR: [09:10:41] SMILES Parse Error: Failed parsing SMILES 'CCCCCC(=O)CC(=O)SCCNC(=O)CCNC([C@H](O)C(C)(C)COP(=O)([O-])OC[C@H](N[a' for input: 'CCCCCC(=O)CC(=O)SCCNC(=O)CCNC([C@H](O)C(C)(C)COP(=O)([O-])OC[C@H](N[a'\n",
      "RDKit ERROR: [09:10:41] SMILES Parse Error: syntax error while parsing: CCCCCCCCCCCCCC(=O)CC(SCCNC(=O)CCNC([C@H](O)C(C)(C)COP(=O)([O-])OC[C@H](N[a\n",
      "RDKit ERROR: [09:10:41] SMILES Parse Error: Failed parsing SMILES 'CCCCCCCCCCCCCC(=O)CC(SCCNC(=O)CCNC([C@H](O)C(C)(C)COP(=O)([O-])OC[C@H](N[a' for input: 'CCCCCCCCCCCCCC(=O)CC(SCCNC(=O)CCNC([C@H](O)C(C)(C)COP(=O)([O-])OC[C@H](N[a'\n"
     ]
    },
    {
     "name": "stderr",
     "output_type": "stream",
     "text": [
      "RDKit ERROR: [09:10:43] UFFTYPER: Unrecognized atom type: Fe5 (0)\n",
      "RDKit ERROR: [09:10:43] UFFTYPER: Unrecognized atom type: S_5+4 (1)\n",
      "RDKit ERROR: [09:10:43] UFFTYPER: Unrecognized atom type: Fe5 (2)\n",
      "RDKit ERROR: [09:10:43] UFFTYPER: Unrecognized atom type: S_5+4 (3)\n",
      "RDKit ERROR: [09:10:43] UFFTYPER: Unrecognized atom type: Fe5 (4)\n",
      "RDKit ERROR: [09:10:43] UFFTYPER: Unrecognized atom type: S_5+4 (5)\n",
      "RDKit ERROR: [09:10:43] UFFTYPER: Unrecognized atom type: Fe5 (6)\n",
      "RDKit ERROR: [09:10:43] UFFTYPER: Unrecognized atom type: S_5+4 (7)\n",
      "RDKit ERROR: [09:10:44] SMILES Parse Error: syntax error while parsing: CC(C)(COP(=O)([O-])OC[C@H](N[a\n",
      "RDKit ERROR: [09:10:44] SMILES Parse Error: Failed parsing SMILES 'CC(C)(COP(=O)([O-])OC[C@H](N[a' for input: 'CC(C)(COP(=O)([O-])OC[C@H](N[a'\n",
      "RDKit ERROR: [09:10:45] SMILES Parse Error: syntax error while parsing: CC(SCCNC(=O)CCNC([C@H](O)C(C)(C)COP(=O)([O-])OC[C@H](N[a\n",
      "RDKit ERROR: [09:10:45] SMILES Parse Error: Failed parsing SMILES 'CC(SCCNC(=O)CCNC([C@H](O)C(C)(C)COP(=O)([O-])OC[C@H](N[a' for input: 'CC(SCCNC(=O)CCNC([C@H](O)C(C)(C)COP(=O)([O-])OC[C@H](N[a'\n",
      "RDKit ERROR: [09:11:36] SMILES Parse Error: syntax error while parsing: CC(CC(=O)SCCNC(=O)CCNC([C@H](O)C(C)(C)COP(=O)([O-])OC[C@H](N[a\n",
      "RDKit ERROR: [09:11:36] SMILES Parse Error: Failed parsing SMILES 'CC(CC(=O)SCCNC(=O)CCNC([C@H](O)C(C)(C)COP(=O)([O-])OC[C@H](N[a' for input: 'CC(CC(=O)SCCNC(=O)CCNC([C@H](O)C(C)(C)COP(=O)([O-])OC[C@H](N[a'\n",
      "RDKit ERROR: [09:11:36] UFFTYPER: Unrecognized hybridization for atom: 64\n",
      "RDKit ERROR: [09:11:36] UFFTYPER: Unrecognized atom type: Co (64)\n",
      "RDKit ERROR: [09:12:06] UFFTYPER: Unrecognized hybridization for atom: 68\n",
      "RDKit ERROR: [09:12:06] UFFTYPER: Unrecognized atom type: Co (68)\n",
      "RDKit ERROR: [09:12:23] UFFTYPER: Unrecognized hybridization for atom: 78\n",
      "RDKit ERROR: [09:12:23] UFFTYPER: Unrecognized atom type: Co (78)\n",
      "RDKit ERROR: [09:12:26] UFFTYPER: Unrecognized hybridization for atom: 78\n",
      "RDKit ERROR: [09:12:26] UFFTYPER: Unrecognized atom type: Co (78)\n",
      "RDKit ERROR: [09:12:29] UFFTYPER: Unrecognized hybridization for atom: 78\n",
      "RDKit ERROR: [09:12:29] UFFTYPER: Unrecognized atom type: Co (78)\n",
      "RDKit ERROR: [09:12:33] UFFTYPER: Unrecognized hybridization for atom: 91\n",
      "RDKit ERROR: [09:12:33] UFFTYPER: Unrecognized atom type: Co (91)\n",
      "RDKit ERROR: [09:12:34] SMILES Parse Error: syntax error while parsing: C([R])(=O)C([O-])=O\n",
      "RDKit ERROR: [09:12:34] SMILES Parse Error: Failed parsing SMILES 'C([R])(=O)C([O-])=O' for input: 'C([R])(=O)C([O-])=O'\n",
      "RDKit ERROR: [09:12:34] SMILES Parse Error: syntax error while parsing: C([R])(=O)C([O-])=O\n",
      "RDKit ERROR: [09:12:34] SMILES Parse Error: Failed parsing SMILES 'C([R])(=O)C([O-])=O' for input: 'C([R])(=O)C([O-])=O'\n",
      "RDKit ERROR: [09:12:34] SMILES Parse Error: syntax error while parsing: C([R])(=O)C([O-])=O\n",
      "RDKit ERROR: [09:12:34] SMILES Parse Error: Failed parsing SMILES 'C([R])(=O)C([O-])=O' for input: 'C([R])(=O)C([O-])=O'\n",
      "RDKit ERROR: [09:12:34] UFFTYPER: Unrecognized charge state for atom: 1\n",
      "RDKit ERROR: [09:12:35] UFFTYPER: Unrecognized charge state for atom: 1\n",
      "RDKit ERROR: [09:12:35] SMILES Parse Error: syntax error while parsing: C([R])(=O)C([O-])=O\n",
      "RDKit ERROR: [09:12:35] SMILES Parse Error: Failed parsing SMILES 'C([R])(=O)C([O-])=O' for input: 'C([R])(=O)C([O-])=O'\n",
      "RDKit ERROR: [09:12:35] SMILES Parse Error: syntax error while parsing: C[C@@H](C(N[C@H](CCC(N[C@@H](CCCC([NH3+])[R])C(=O)N[C@H](C)C([O-])=O)=O)C([O-])=O)=O)NC([C@@H](C)O[C@H]2([C@H](O[C@@H]1(O[C@H](CO)[C@@H](O)[C@H](O)[C@@H](NC(=O)C)1))C3(COC([C@H](NC(=O)C)2)O3)))=O\n",
      "RDKit ERROR: [09:12:35] SMILES Parse Error: Failed parsing SMILES 'C[C@@H](C(N[C@H](CCC(N[C@@H](CCCC([NH3+])[R])C(=O)N[C@H](C)C([O-])=O)=O)C([O-])=O)=O)NC([C@@H](C)O[C@H]2([C@H](O[C@@H]1(O[C@H](CO)[C@@H](O)[C@H](O)[C@@H](NC(=O)C)1))C3(COC([C@H](NC(=O)C)2)O3)))=O' for input: 'C[C@@H](C(N[C@H](CCC(N[C@@H](CCCC([NH3+])[R])C(=O)N[C@H](C)C([O-])=O)=O)C([O-])=O)=O)NC([C@@H](C)O[C@H]2([C@H](O[C@@H]1(O[C@H](CO)[C@@H](O)[C@H](O)[C@@H](NC(=O)C)1))C3(COC([C@H](NC(=O)C)2)O3)))=O'\n",
      "RDKit ERROR: [09:12:35] SMILES Parse Error: syntax error while parsing: C[C@@H](C(N[C@H](CCC(N[C@@H](CCCC([NH3+])[R])C(=O)N[C@H](C)C([O-])=O)=O)C([O-])=O)=O)NC([C@@H](C)O[C@H]2([C@H](O[C@@H]1(O[C@H](CO)[C@@H](O)[C@H](O)[C@@H](NC(=O)C)1))C3(COC([C@H](NC(=O)C)2)O3)))=O\n",
      "RDKit ERROR: [09:12:35] SMILES Parse Error: Failed parsing SMILES 'C[C@@H](C(N[C@H](CCC(N[C@@H](CCCC([NH3+])[R])C(=O)N[C@H](C)C([O-])=O)=O)C([O-])=O)=O)NC([C@@H](C)O[C@H]2([C@H](O[C@@H]1(O[C@H](CO)[C@@H](O)[C@H](O)[C@@H](NC(=O)C)1))C3(COC([C@H](NC(=O)C)2)O3)))=O' for input: 'C[C@@H](C(N[C@H](CCC(N[C@@H](CCCC([NH3+])[R])C(=O)N[C@H](C)C([O-])=O)=O)C([O-])=O)=O)NC([C@@H](C)O[C@H]2([C@H](O[C@@H]1(O[C@H](CO)[C@@H](O)[C@H](O)[C@@H](NC(=O)C)1))C3(COC([C@H](NC(=O)C)2)O3)))=O'\n",
      "RDKit ERROR: [09:12:43] UFFTYPER: Unrecognized charge state for atom: 0\n",
      "RDKit ERROR: [09:12:45] UFFTYPER: Unrecognized atom type: Mo5 (17)\n",
      "RDKit ERROR: [09:12:46] UFFTYPER: Unrecognized hybridization for atom: 64\n",
      "RDKit ERROR: [09:12:46] UFFTYPER: Unrecognized atom type: Co (64)\n",
      "RDKit ERROR: [09:21:33] UFFTYPER: Unrecognized hybridization for atom: 64\n",
      "RDKit ERROR: [09:21:33] UFFTYPER: Unrecognized atom type: Co (64)\n",
      "RDKit ERROR: [09:30:08] UFFTYPER: Unrecognized hybridization for atom: 64\n",
      "RDKit ERROR: [09:30:08] UFFTYPER: Unrecognized atom type: Co (64)\n",
      "RDKit ERROR: [09:38:39] UFFTYPER: Unrecognized hybridization for atom: 80\n",
      "RDKit ERROR: [09:38:39] UFFTYPER: Unrecognized atom type: Co (80)\n",
      "RDKit ERROR: [09:55:19] UFFTYPER: Unrecognized hybridization for atom: 80\n",
      "RDKit ERROR: [09:55:19] UFFTYPER: Unrecognized atom type: Co (80)\n",
      "RDKit ERROR: [10:11:54] UFFTYPER: Unrecognized hybridization for atom: 80\n",
      "RDKit ERROR: [10:11:54] UFFTYPER: Unrecognized atom type: Co (80)\n",
      "RDKit WARNING: [10:28:11] Warning: molecule is tagged as 3D, but all Z coords are zero\n",
      "RDKit WARNING: [10:28:11] Warning: molecule is tagged as 3D, but all Z coords are zero\n",
      "RDKit WARNING: [10:28:11] Warning: molecule is tagged as 3D, but all Z coords are zero\n",
      "RDKit WARNING: [10:28:17] Warning: molecule is tagged as 3D, but all Z coords are zero\n",
      "RDKit WARNING: [10:28:17] Warning: molecule is tagged as 3D, but all Z coords are zero\n",
      "RDKit WARNING: [10:28:17] Warning: molecule is tagged as 3D, but all Z coords are zero\n",
      "RDKit WARNING: [10:28:24] Warning: molecule is tagged as 3D, but all Z coords are zero\n",
      "RDKit WARNING: [10:28:24] Warning: molecule is tagged as 3D, but all Z coords are zero\n",
      "RDKit WARNING: [10:28:24] Warning: molecule is tagged as 3D, but all Z coords are zero\n",
      "RDKit WARNING: [10:28:24] Warning: molecule is tagged as 3D, but all Z coords are zero\n",
      "RDKit WARNING: [10:28:24] Warning: molecule is tagged as 3D, but all Z coords are zero\n",
      "RDKit WARNING: [10:28:24] Warning: molecule is tagged as 3D, but all Z coords are zero\n",
      "RDKit ERROR: [10:28:28] SMILES Parse Error: syntax error while parsing: C([R])C(O)C(O)[C@H]2(CNC1(\\C(\\C(\\N=C(N)/N=1)=O)=N/2))\n",
      "RDKit ERROR: [10:28:28] SMILES Parse Error: Failed parsing SMILES 'C([R])C(O)C(O)[C@H]2(CNC1(\\C(\\C(\\N=C(N)/N=1)=O)=N/2))' for input: 'C([R])C(O)C(O)[C@H]2(CNC1(\\C(\\C(\\N=C(N)/N=1)=O)=N/2))'\n",
      "RDKit ERROR: [10:28:31] SMILES Parse Error: syntax error while parsing: COC(=O)C/C=C/C(=O)SCCNC(=O)CCNC([C@H](O)C(C)(C)COP(=O)([O-])OC[C@H](N[a\n",
      "RDKit ERROR: [10:28:31] SMILES Parse Error: Failed parsing SMILES 'COC(=O)C/C=C/C(=O)SCCNC(=O)CCNC([C@H](O)C(C)(C)COP(=O)([O-])OC[C@H](N[a' for input: 'COC(=O)C/C=C/C(=O)SCCNC(=O)CCNC([C@H](O)C(C)(C)COP(=O)([O-])OC[C@H](N[a'\n",
      "RDKit ERROR: [10:28:32] SMILES Parse Error: syntax error while parsing: COC(=O)CCC/C=C/C(=O)SCCNC(=O)CCNC([C@H](O)C(C)(C)COP(=O)([O-])OC[C@H](N[a\n",
      "RDKit ERROR: [10:28:32] SMILES Parse Error: Failed parsing SMILES 'COC(=O)CCC/C=C/C(=O)SCCNC(=O)CCNC([C@H](O)C(C)(C)COP(=O)([O-])OC[C@H](N[a' for input: 'COC(=O)CCC/C=C/C(=O)SCCNC(=O)CCNC([C@H](O)C(C)(C)COP(=O)([O-])OC[C@H](N[a'\n",
      "RDKit ERROR: [10:28:34] SMILES Parse Error: syntax error while parsing: C3([R3])(=O[Fe]12(O=C([R2])NO1)(O=C([R1])NO2)ON3)\n",
      "RDKit ERROR: [10:28:34] SMILES Parse Error: Failed parsing SMILES 'C3([R3])(=O[Fe]12(O=C([R2])NO1)(O=C([R1])NO2)ON3)' for input: 'C3([R3])(=O[Fe]12(O=C([R2])NO1)(O=C([R1])NO2)ON3)'\n",
      "RDKit ERROR: [10:28:34] SMILES Parse Error: syntax error while parsing: C3([R3])(=O[Fe]12(O=C([R2])NO1)(O=C([R1])NO2)ON3)\n",
      "RDKit ERROR: [10:28:34] SMILES Parse Error: Failed parsing SMILES 'C3([R3])(=O[Fe]12(O=C([R2])NO1)(O=C([R1])NO2)ON3)' for input: 'C3([R3])(=O[Fe]12(O=C([R2])NO1)(O=C([R1])NO2)ON3)'\n",
      "RDKit ERROR: [10:28:34] SMILES Parse Error: syntax error while parsing: C3([R3])(=O[Fe]12(O=C([R2])NO1)(O=C([R1])NO2)ON3)\n",
      "RDKit ERROR: [10:28:34] SMILES Parse Error: Failed parsing SMILES 'C3([R3])(=O[Fe]12(O=C([R2])NO1)(O=C([R1])NO2)ON3)' for input: 'C3([R3])(=O[Fe]12(O=C([R2])NO1)(O=C([R1])NO2)ON3)'\n",
      "RDKit ERROR: [10:28:34] SMILES Parse Error: syntax error while parsing: C([R3])(=O)N[O-].C([R1])(=O)N[O-].C([R2])(=O)N[O-]\n",
      "RDKit ERROR: [10:28:34] SMILES Parse Error: Failed parsing SMILES 'C([R3])(=O)N[O-].C([R1])(=O)N[O-].C([R2])(=O)N[O-]' for input: 'C([R3])(=O)N[O-].C([R1])(=O)N[O-].C([R2])(=O)N[O-]'\n",
      "RDKit ERROR: [10:28:34] SMILES Parse Error: syntax error while parsing: C([R3])(=O)N[O-].C([R1])(=O)N[O-].C([R2])(=O)N[O-]\n",
      "RDKit ERROR: [10:28:34] SMILES Parse Error: Failed parsing SMILES 'C([R3])(=O)N[O-].C([R1])(=O)N[O-].C([R2])(=O)N[O-]' for input: 'C([R3])(=O)N[O-].C([R1])(=O)N[O-].C([R2])(=O)N[O-]'\n",
      "RDKit ERROR: [10:28:34] SMILES Parse Error: syntax error while parsing: C([R3])(=O)N[O-].C([R1])(=O)N[O-].C([R2])(=O)N[O-]\n",
      "RDKit ERROR: [10:28:34] SMILES Parse Error: Failed parsing SMILES 'C([R3])(=O)N[O-].C([R1])(=O)N[O-].C([R2])(=O)N[O-]' for input: 'C([R3])(=O)N[O-].C([R1])(=O)N[O-].C([R2])(=O)N[O-]'\n",
      "RDKit ERROR: [10:28:34] UFFTYPER: Unrecognized hybridization for atom: 28\n",
      "RDKit ERROR: [10:28:34] UFFTYPER: Unrecognized atom type: Fe (28)\n"
     ]
    },
    {
     "name": "stderr",
     "output_type": "stream",
     "text": [
      "RDKit ERROR: [10:28:34] UFFTYPER: Unrecognized hybridization for atom: 28\n",
      "RDKit ERROR: [10:28:34] UFFTYPER: Unrecognized atom type: Fe (28)\n",
      "RDKit ERROR: [10:28:35] UFFTYPER: Unrecognized hybridization for atom: 28\n",
      "RDKit ERROR: [10:28:35] UFFTYPER: Unrecognized atom type: Fe (28)\n",
      "RDKit ERROR: [10:28:36] UFFTYPER: Unrecognized atom type: Fe3 (5)\n",
      "RDKit ERROR: [10:28:36] UFFTYPER: Unrecognized atom type: Fe3 (5)\n",
      "RDKit ERROR: [10:28:37] UFFTYPER: Unrecognized atom type: Fe3 (5)\n",
      "RDKit ERROR: [10:28:37] SMILES Parse Error: syntax error while parsing: C(OC(=O)C(CCCCCCCCCCCCCCCCCCCCCCCC)[C@H](O)CCCCCCCCCCCCCCCCCC1(C(CCCCCCCCCCCCCCCCC(OC)C(C)CCCCCCCCCCCCCCCCCC)C1))[C@@H]2([C@@H](O)[C@H](O)[C@H](O[a\n",
      "RDKit ERROR: [10:28:37] SMILES Parse Error: Failed parsing SMILES 'C(OC(=O)C(CCCCCCCCCCCCCCCCCCCCCCCC)[C@H](O)CCCCCCCCCCCCCCCCCC1(C(CCCCCCCCCCCCCCCCC(OC)C(C)CCCCCCCCCCCCCCCCCC)C1))[C@@H]2([C@@H](O)[C@H](O)[C@H](O[a' for input: 'C(OC(=O)C(CCCCCCCCCCCCCCCCCCCCCCCC)[C@H](O)CCCCCCCCCCCCCCCCCC1(C(CCCCCCCCCCCCCCCCC(OC)C(C)CCCCCCCCCCCCCCCCCC)C1))[C@@H]2([C@@H](O)[C@H](O)[C@H](O[a'\n",
      "RDKit ERROR: [10:28:37] SMILES Parse Error: syntax error while parsing: C(OC(=O)C(CCCCCCCCCCCCCCCCCCCCCCCC)[C@H](O)CCCCCCCCCCCCCCCCCC1(C(CCCCCCCCCCCCCCCCC(OC)C(C)CCCCCCCCCCCCCCCCCC)C1))[C@@H]2([C@@H](O)[C@H](O)[C@H](O[a\n",
      "RDKit ERROR: [10:28:37] SMILES Parse Error: Failed parsing SMILES 'C(OC(=O)C(CCCCCCCCCCCCCCCCCCCCCCCC)[C@H](O)CCCCCCCCCCCCCCCCCC1(C(CCCCCCCCCCCCCCCCC(OC)C(C)CCCCCCCCCCCCCCCCCC)C1))[C@@H]2([C@@H](O)[C@H](O)[C@H](O[a' for input: 'C(OC(=O)C(CCCCCCCCCCCCCCCCCCCCCCCC)[C@H](O)CCCCCCCCCCCCCCCCCC1(C(CCCCCCCCCCCCCCCCC(OC)C(C)CCCCCCCCCCCCCCCCCC)C1))[C@@H]2([C@@H](O)[C@H](O)[C@H](O[a'\n",
      "RDKit ERROR: [10:28:37] SMILES Parse Error: syntax error while parsing: C(OC(=O)C(CCCCCCCCCCCCCCCCCCCCCCCC)[C@H](O)CCCCCCCCCCCCCCCCCC1(C(CCCCCCCCCCCCCCCCC(OC)C(C)CCCCCCCCCCCCCCCCCC)C1))[C@@H]2([C@@H](O)[C@H](O)[C@H](O[a\n",
      "RDKit ERROR: [10:28:37] SMILES Parse Error: Failed parsing SMILES 'C(OC(=O)C(CCCCCCCCCCCCCCCCCCCCCCCC)[C@H](O)CCCCCCCCCCCCCCCCCC1(C(CCCCCCCCCCCCCCCCC(OC)C(C)CCCCCCCCCCCCCCCCCC)C1))[C@@H]2([C@@H](O)[C@H](O)[C@H](O[a' for input: 'C(OC(=O)C(CCCCCCCCCCCCCCCCCCCCCCCC)[C@H](O)CCCCCCCCCCCCCCCCCC1(C(CCCCCCCCCCCCCCCCC(OC)C(C)CCCCCCCCCCCCCCCCCC)C1))[C@@H]2([C@@H](O)[C@H](O)[C@H](O[a'\n",
      "RDKit ERROR: [10:29:58] SMILES Parse Error: syntax error while parsing: C([C@H]%34(O[C@H](O[C@@H]1([C@H](O[C@@H]([C@@H]([C@@H](O)1)O)O[C@@H]%33([C@H](O[C@H](O[C@@H]2([C@H](O[C@@H]([C@@H]([C@@H](O)2)O)O[C@@H]%32([C@H](O[C@H](O[C@@H]3([C@H](O[C@@H]([C@@H]([C@@H](O)3)O)O[C@@H]%31([C@H](O[C@H](O[C@@H]%30([C@H](O[C@H](OC[C@@H]%28([C@@H](O[C@H]%27(O[C@@H]([C@@H](O[C@H]%26(O[C@@H]([C@@H](O[C@H]%25(O[C@@H]([C@@H](O[C@H]%24(O[C@@H]([C@@H](O[C@H]%23(O[C@@H]([C@@H](O[C@H]%22(O[C@@H]([C@@H](O[C@H]5(O[C@@H]([C@@H](O[C@H]4(O[C@@H]([C@@H](O[R1])[C@@H]([C@H]4O)O)CO))[C@@H]([C@H]5O)O)CO[C@H]%21(O[C@@H]([C@@H](O[C@H]%20(O[C@@H]([C@@H](O[C@H]%19(O[C@@H]([C@@H](O[C@H]%10(O[C@@H]([C@@H](O[C@H]9(O[C@@H]([C@@H](O[C@H]8(O[C@@H]([C@@H](O[C@H]7(O[C@@H]([C@@H](O[C@H]6(O[C@@H]([C@@H](O)[C@@H]([C@H]6O)O)CO))[C@@H]([C@H]7O)O)CO))[C@@H]([C@H]8O)O)CO))[C@@H]([C@H]9O)O)CO))[C@@H]([C@H]%10O)O)CO[C@H]%18(O[C@@H]([C@@H](O[C@H]%17(O[C@@H]([C@@H](O[C@H]%16(O[C@@H]([C@@H](O[C@H]%15(O[C@@H]([C@@H](O[C@H]%14(O[C@@H]([C@@H](O[... truncatedRDKit ERROR: [10:29:58] SMILES Parse Error: Failed parsing SMILES 'C([C@H]%34(O[C@H](O[C@@H]1([C@H](O[C@@H]([C@@H]([C@@H](O)1)O)O[C@@H]%33([C@H](O[C@H](O[C@@H]2([C@H](O[C@@H]([C@@H]([C@@H](O)2)O)O[C@@H]%32([C@H](O[C@H](O[C@@H]3([C@H](O[C@@H]([C@@H]([C@@H](O)3)O)O[C@@H]%31([C@H](O[C@H](O[C@@H]%30([C@H](O[C@H](OC[C@@H]%28([C@@H](O[C@H]%27(O[C@@H]([C@@H](O[C@H]%26(O[C@@H]([C@@H](O[C@H]%25(O[C@@H]([C@@H](O[C@H]%24(O[C@@H]([C@@H](O[C@H]%23(O[C@@H]([C@@H](O[C@H]%22(O[C@@H]([C@@H](O[C@H]5(O[C@@H]([C@@H](O[C@H]4(O[C@@H]([C@@H](O[R1])[C@@H]([C@H]4O)O)CO))[C@@H]([C@H]5O)O)CO[C@H]%21(O[C@@H]([C@@H](O[C@H]%20(O[C@@H]([C@@H](O[C@H]%19(O[C@@H]([C@@H](O[C@H]%10(O[C@@H]([C@@H](O[C@H]9(O[C@@H]([C@@H](O[C@H]8(O[C@@H]([C@@H](O[C@H]7(O[C@@H]([C@@H](O[C@H]6(O[C@@H]([C@@H](O)[C@@H]([C@H]6O)O)CO))[C@@H]([C@H]7O)O)CO))[C@@H]([C@H]8O)O)CO))[C@@H]([C@H]9O)O)CO))[C@@H]([C@H]%10O)O)CO[C@H]%18(O[C@@H]([C@@H](O[C@H]%17(O[C@@H]([C@@H](O[C@H]%16(O[C@@H]([C@@H](O[C@H]%15(O[C@@H]([C@@H](O[C@H]%14(O[C@@H]([C@@H](O[C@H]%... truncatedRDKit ERROR: [10:29:58] SMILES Parse Error: syntax error while parsing: COC(=O)CCCC(=O)SCCNC(=O)CCNC([C@H](O)C(C)(C)COP(=O)([O-])OC[C@H](N[a\n",
      "RDKit ERROR: [10:29:58] SMILES Parse Error: Failed parsing SMILES 'COC(=O)CCCC(=O)SCCNC(=O)CCNC([C@H](O)C(C)(C)COP(=O)([O-])OC[C@H](N[a' for input: 'COC(=O)CCCC(=O)SCCNC(=O)CCNC([C@H](O)C(C)(C)COP(=O)([O-])OC[C@H](N[a'\n",
      "RDKit WARNING: [10:30:00] WARNING: not removing hydrogen atom without neighbors\n",
      "RDKit WARNING: [10:30:00] WARNING: not removing hydrogen atom without neighbors\n",
      "RDKit WARNING: [10:30:00] Warning: molecule is tagged as 3D, but all Z coords are zero\n",
      "RDKit WARNING: [10:30:00] WARNING: not removing hydrogen atom without neighbors\n",
      "RDKit WARNING: [10:30:00] WARNING: not removing hydrogen atom without neighbors\n",
      "RDKit WARNING: [10:30:00] WARNING: not removing hydrogen atom without neighbors\n",
      "RDKit WARNING: [10:30:00] Warning: molecule is tagged as 3D, but all Z coords are zero\n",
      "RDKit WARNING: [10:30:00] WARNING: not removing hydrogen atom without neighbors\n",
      "RDKit WARNING: [10:30:00] WARNING: not removing hydrogen atom without neighbors\n",
      "RDKit WARNING: [10:30:00] WARNING: not removing hydrogen atom without neighbors\n",
      "RDKit WARNING: [10:30:00] Warning: molecule is tagged as 3D, but all Z coords are zero\n",
      "RDKit WARNING: [10:30:00] WARNING: not removing hydrogen atom without neighbors\n",
      "RDKit WARNING: [10:30:00] Warning: molecule is tagged as 3D, but all Z coords are zero\n",
      "RDKit WARNING: [10:30:00] Warning: molecule is tagged as 3D, but all Z coords are zero\n",
      "RDKit WARNING: [10:30:00] Warning: molecule is tagged as 3D, but all Z coords are zero\n",
      "RDKit ERROR: [10:30:00] UFFTYPER: Unrecognized charge state for atom: 0\n",
      "RDKit WARNING: [10:30:00] Warning: molecule is tagged as 3D, but all Z coords are zero\n",
      "RDKit ERROR: [10:30:00] UFFTYPER: Unrecognized charge state for atom: 0\n",
      "RDKit WARNING: [10:30:00] Warning: molecule is tagged as 3D, but all Z coords are zero\n",
      "RDKit ERROR: [10:30:00] UFFTYPER: Unrecognized charge state for atom: 0\n",
      "RDKit WARNING: [10:30:00] Warning: molecule is tagged as 3D, but all Z coords are zero\n",
      "RDKit WARNING: [10:30:00] WARNING: not removing hydrogen atom without neighbors\n",
      "RDKit WARNING: [10:30:00] WARNING: not removing hydrogen atom without neighbors\n",
      "RDKit WARNING: [10:30:00] Warning: molecule is tagged as 3D, but all Z coords are zero\n",
      "RDKit WARNING: [10:30:00] WARNING: not removing hydrogen atom without neighbors\n",
      "RDKit WARNING: [10:30:00] WARNING: not removing hydrogen atom without neighbors\n",
      "RDKit WARNING: [10:30:00] WARNING: not removing hydrogen atom without neighbors\n",
      "RDKit WARNING: [10:30:00] Warning: molecule is tagged as 3D, but all Z coords are zero\n",
      "RDKit WARNING: [10:30:00] WARNING: not removing hydrogen atom without neighbors\n",
      "RDKit WARNING: [10:30:00] WARNING: not removing hydrogen atom without neighbors\n",
      "RDKit WARNING: [10:30:00] WARNING: not removing hydrogen atom without neighbors\n",
      "RDKit WARNING: [10:30:00] Warning: molecule is tagged as 3D, but all Z coords are zero\n",
      "RDKit WARNING: [10:30:00] WARNING: not removing hydrogen atom without neighbors\n",
      "RDKit ERROR: [10:30:02] UFFTYPER: Unrecognized hybridization for atom: 5\n",
      "RDKit ERROR: [10:30:02] UFFTYPER: Unrecognized atom type: Fe (5)\n",
      "RDKit ERROR: [10:30:50] SMILES Parse Error: syntax error while parsing: C([R])[C@H](CC(=O)SCCNC(=O)CCNC([C@H](O)C(C)(C)COP(=O)([O-])OC[C@H](N[a\n",
      "RDKit ERROR: [10:30:50] SMILES Parse Error: Failed parsing SMILES 'C([R])[C@H](CC(=O)SCCNC(=O)CCNC([C@H](O)C(C)(C)COP(=O)([O-])OC[C@H](N[a' for input: 'C([R])[C@H](CC(=O)SCCNC(=O)CCNC([C@H](O)C(C)(C)COP(=O)([O-])OC[C@H](N[a'\n",
      "RDKit ERROR: [10:31:13] SMILES Parse Error: syntax error while parsing: COC(=O)CCC[C@@H](O)CC(=O)SCCNC(=O)CCNC([C@H](O)C(C)(C)COP(=O)([O-])OC[C@H](N[a\n",
      "RDKit ERROR: [10:31:13] SMILES Parse Error: Failed parsing SMILES 'COC(=O)CCC[C@@H](O)CC(=O)SCCNC(=O)CCNC([C@H](O)C(C)(C)COP(=O)([O-])OC[C@H](N[a' for input: 'COC(=O)CCC[C@@H](O)CC(=O)SCCNC(=O)CCNC([C@H](O)C(C)(C)COP(=O)([O-])OC[C@H](N[a'\n"
     ]
    },
    {
     "name": "stderr",
     "output_type": "stream",
     "text": [
      "RDKit ERROR: [10:32:04] SMILES Parse Error: syntax error while parsing: C(CC(=O)[O-])(=O)SCCNC(=O)CCNC([C@H](O)C(C)(C)COP(=O)([O-])OC[C@H](N[a\n",
      "RDKit ERROR: [10:32:04] SMILES Parse Error: Failed parsing SMILES 'C(CC(=O)[O-])(=O)SCCNC(=O)CCNC([C@H](O)C(C)(C)COP(=O)([O-])OC[C@H](N[a' for input: 'C(CC(=O)[O-])(=O)SCCNC(=O)CCNC([C@H](O)C(C)(C)COP(=O)([O-])OC[C@H](N[a'\n",
      "RDKit ERROR: [10:32:19] SMILES Parse Error: syntax error while parsing: C([R2])(O)([R3])[R1]\n",
      "RDKit ERROR: [10:32:19] SMILES Parse Error: Failed parsing SMILES 'C([R2])(O)([R3])[R1]' for input: 'C([R2])(O)([R3])[R1]'\n",
      "RDKit ERROR: [10:32:19] SMILES Parse Error: syntax error while parsing: C([R2])(O)([R3])[R1]\n",
      "RDKit ERROR: [10:32:19] SMILES Parse Error: Failed parsing SMILES 'C([R2])(O)([R3])[R1]' for input: 'C([R2])(O)([R3])[R1]'\n",
      "RDKit ERROR: [10:32:19] SMILES Parse Error: syntax error while parsing: C([R2])(O)([R3])[R1]\n",
      "RDKit ERROR: [10:32:19] SMILES Parse Error: Failed parsing SMILES 'C([R2])(O)([R3])[R1]' for input: 'C([R2])(O)([R3])[R1]'\n",
      "RDKit ERROR: [10:32:20] UFFTYPER: Unrecognized charge state for atom: 1\n",
      "RDKit ERROR: [10:32:20] UFFTYPER: Unrecognized charge state for atom: 1\n",
      "RDKit ERROR: [10:32:20] UFFTYPER: Unrecognized charge state for atom: 1\n",
      "RDKit ERROR: [10:32:20] UFFTYPER: Unrecognized atom type: Mo3 (0)\n",
      "RDKit ERROR: [10:32:20] UFFTYPER: Unrecognized atom type: Mo3 (0)\n",
      "RDKit ERROR: [10:32:20] UFFTYPER: Unrecognized atom type: Mo3 (0)\n",
      "RDKit ERROR: [10:32:21] SMILES Parse Error: syntax error while parsing: C1([R1])(=C([R4])C(/O)=C([R3])\\C(/[R2])=C1\\O)\n",
      "RDKit ERROR: [10:32:21] SMILES Parse Error: Failed parsing SMILES 'C1([R1])(=C([R4])C(/O)=C([R3])\\C(/[R2])=C1\\O)' for input: 'C1([R1])(=C([R4])C(/O)=C([R3])\\C(/[R2])=C1\\O)'\n",
      "RDKit ERROR: [10:32:21] SMILES Parse Error: syntax error while parsing: C1([R1])(=C([R4])C(=O)C(/[R3])=C([R2])/C(=O)1)\n",
      "RDKit ERROR: [10:32:21] SMILES Parse Error: Failed parsing SMILES 'C1([R1])(=C([R4])C(=O)C(/[R3])=C([R2])/C(=O)1)' for input: 'C1([R1])(=C([R4])C(=O)C(/[R3])=C([R2])/C(=O)1)'\n",
      "RDKit ERROR: [10:32:28] SMILES Parse Error: syntax error while parsing: C[C@@H](C(=O)N[C@@H](C(=O)[O-])CCC(=O)N[C@@H](CCC[C@@H]([NH3+])C(=O)[O-])C(N[C@H](C)C([O-])=O)=O)NC(=O)[C@@H](C)O[C@H]4([C@H](O[C@@H]3(O[C@H](CO)[C@@H](O[C@H]2([C@H](NC(=O)C)[C@@H](O[C@H](C)C(=O)N[C@@H](C)C(=O)N[C@@H](C(=O)[O-])CCC(=O)N[C@@H](CCC[C@@H]([NH3+])C(=O)[O-])C(N[C@H](C)C([O-])=O)=O)[C@H](O[C@@H]1(O[C@H](CO)[C@@H](O[R2])[C@H](O)[C@@H](NC(=O)C)1))[C@@H](CO)O2))[C@H](O)[C@@H](NC(=O)C)3))[C@@H](CO)OC(O[R1])[C@H](NC(=O)C)4)\n",
      "RDKit ERROR: [10:32:28] SMILES Parse Error: Failed parsing SMILES 'C[C@@H](C(=O)N[C@@H](C(=O)[O-])CCC(=O)N[C@@H](CCC[C@@H]([NH3+])C(=O)[O-])C(N[C@H](C)C([O-])=O)=O)NC(=O)[C@@H](C)O[C@H]4([C@H](O[C@@H]3(O[C@H](CO)[C@@H](O[C@H]2([C@H](NC(=O)C)[C@@H](O[C@H](C)C(=O)N[C@@H](C)C(=O)N[C@@H](C(=O)[O-])CCC(=O)N[C@@H](CCC[C@@H]([NH3+])C(=O)[O-])C(N[C@H](C)C([O-])=O)=O)[C@H](O[C@@H]1(O[C@H](CO)[C@@H](O[R2])[C@H](O)[C@@H](NC(=O)C)1))[C@@H](CO)O2))[C@H](O)[C@@H](NC(=O)C)3))[C@@H](CO)OC(O[R1])[C@H](NC(=O)C)4)' for input: 'C[C@@H](C(=O)N[C@@H](C(=O)[O-])CCC(=O)N[C@@H](CCC[C@@H]([NH3+])C(=O)[O-])C(N[C@H](C)C([O-])=O)=O)NC(=O)[C@@H](C)O[C@H]4([C@H](O[C@@H]3(O[C@H](CO)[C@@H](O[C@H]2([C@H](NC(=O)C)[C@@H](O[C@H](C)C(=O)N[C@@H](C)C(=O)N[C@@H](C(=O)[O-])CCC(=O)N[C@@H](CCC[C@@H]([NH3+])C(=O)[O-])C(N[C@H](C)C([O-])=O)=O)[C@H](O[C@@H]1(O[C@H](CO)[C@@H](O[R2])[C@H](O)[C@@H](NC(=O)C)1))[C@@H](CO)O2))[C@H](O)[C@@H](NC(=O)C)3))[C@@H](CO)OC(O[R1])[C@H](NC(=O)C)4)'\n",
      "RDKit ERROR: [10:32:33] SMILES Parse Error: syntax error while parsing: C[C@H](C(=O)N[C@H](C)C([O-])=O)NC(=O)[C@H](CCC[C@@H]([NH3+])C(=O)[O-])NC(=O)CC[C@H](C(=O)[O-])NC(=O)[C@H](C)NC(=O)[C@@H](C)O[C@H]4([C@H](O[C@@H]3(O[C@H](CO)[C@@H](O[C@@H]2([C@H](NC(=O)C)[C@@H](O[C@H](C)C(=O)N[C@@H](C)C(=O)N[C@@H](C(=O)[O-])CCC(=O)N[C@@H](CCC[C@@H]([NH3+])C(=O)[O-])C(N[C@H](C)C(=O)N[C@H](C)C([O-])=O)=O)[C@H](O[C@@H]1(O[C@H](CO)[C@@H](O[R2])[C@H](O)[C@@H](NC(=O)C)1))[C@@H](CO)O2))[C@H](O)[C@@H](NC(=O)C)3))[C@@H](CO)O[C@@H]([C@H](NC(=O)C)4)O[R1])\n",
      "RDKit ERROR: [10:32:33] SMILES Parse Error: Failed parsing SMILES 'C[C@H](C(=O)N[C@H](C)C([O-])=O)NC(=O)[C@H](CCC[C@@H]([NH3+])C(=O)[O-])NC(=O)CC[C@H](C(=O)[O-])NC(=O)[C@H](C)NC(=O)[C@@H](C)O[C@H]4([C@H](O[C@@H]3(O[C@H](CO)[C@@H](O[C@@H]2([C@H](NC(=O)C)[C@@H](O[C@H](C)C(=O)N[C@@H](C)C(=O)N[C@@H](C(=O)[O-])CCC(=O)N[C@@H](CCC[C@@H]([NH3+])C(=O)[O-])C(N[C@H](C)C(=O)N[C@H](C)C([O-])=O)=O)[C@H](O[C@@H]1(O[C@H](CO)[C@@H](O[R2])[C@H](O)[C@@H](NC(=O)C)1))[C@@H](CO)O2))[C@H](O)[C@@H](NC(=O)C)3))[C@@H](CO)O[C@@H]([C@H](NC(=O)C)4)O[R1])' for input: 'C[C@H](C(=O)N[C@H](C)C([O-])=O)NC(=O)[C@H](CCC[C@@H]([NH3+])C(=O)[O-])NC(=O)CC[C@H](C(=O)[O-])NC(=O)[C@H](C)NC(=O)[C@@H](C)O[C@H]4([C@H](O[C@@H]3(O[C@H](CO)[C@@H](O[C@@H]2([C@H](NC(=O)C)[C@@H](O[C@H](C)C(=O)N[C@@H](C)C(=O)N[C@@H](C(=O)[O-])CCC(=O)N[C@@H](CCC[C@@H]([NH3+])C(=O)[O-])C(N[C@H](C)C(=O)N[C@H](C)C([O-])=O)=O)[C@H](O[C@@H]1(O[C@H](CO)[C@@H](O[R2])[C@H](O)[C@@H](NC(=O)C)1))[C@@H](CO)O2))[C@H](O)[C@@H](NC(=O)C)3))[C@@H](CO)O[C@@H]([C@H](NC(=O)C... truncatedRDKit WARNING: [10:32:50] Warning: molecule is tagged as 3D, but all Z coords are zero\n",
      "RDKit WARNING: [10:32:50] Warning: molecule is tagged as 3D, but all Z coords are zero\n",
      "RDKit WARNING: [10:32:50] Warning: molecule is tagged as 3D, but all Z coords are zero\n",
      "RDKit WARNING: [10:32:51] Warning: molecule is tagged as 3D, but all Z coords are zero\n",
      "RDKit WARNING: [10:32:51] Warning: molecule is tagged as 3D, but all Z coords are zero\n",
      "RDKit WARNING: [10:32:51] Warning: molecule is tagged as 3D, but all Z coords are zero\n",
      "RDKit WARNING: [10:32:51] Warning: molecule is tagged as 3D, but all Z coords are zero\n",
      "RDKit WARNING: [10:32:51] Warning: molecule is tagged as 3D, but all Z coords are zero\n",
      "RDKit WARNING: [10:32:51] Warning: molecule is tagged as 3D, but all Z coords are zero\n",
      "RDKit WARNING: [10:32:57] Warning: molecule is tagged as 3D, but all Z coords are zero\n",
      "RDKit WARNING: [10:32:57] Warning: molecule is tagged as 3D, but all Z coords are zero\n",
      "RDKit WARNING: [10:32:57] Warning: molecule is tagged as 3D, but all Z coords are zero\n",
      "RDKit WARNING: [10:32:57] Warning: molecule is tagged as 3D, but all Z coords are zero\n",
      "RDKit WARNING: [10:32:57] Warning: molecule is tagged as 3D, but all Z coords are zero\n",
      "RDKit WARNING: [10:32:57] Warning: molecule is tagged as 3D, but all Z coords are zero\n",
      "RDKit ERROR: [10:33:05] SMILES Parse Error: syntax error while parsing: CC(=O)OC1(\\C(/[R5])=C([R4])/C(\\[R3])=C([R2])\\C(/[R1])=1)\n",
      "RDKit ERROR: [10:33:05] SMILES Parse Error: Failed parsing SMILES 'CC(=O)OC1(\\C(/[R5])=C([R4])/C(\\[R3])=C([R2])\\C(/[R1])=1)' for input: 'CC(=O)OC1(\\C(/[R5])=C([R4])/C(\\[R3])=C([R2])\\C(/[R1])=1)'\n",
      "RDKit ERROR: [10:33:16] UFFTYPER: Unrecognized hybridization for atom: 29\n",
      "RDKit ERROR: [10:33:16] UFFTYPER: Unrecognized atom type: Fe (29)\n",
      "RDKit ERROR: [10:34:30] UFFTYPER: Unrecognized hybridization for atom: 29\n",
      "RDKit ERROR: [10:34:30] UFFTYPER: Unrecognized atom type: Fe (29)\n",
      "RDKit ERROR: [10:35:45] UFFTYPER: Unrecognized hybridization for atom: 29\n",
      "RDKit ERROR: [10:35:45] UFFTYPER: Unrecognized atom type: Fe (29)\n",
      "RDKit ERROR: [10:37:17] SMILES Parse Error: syntax error while parsing: C(CCCCCC([O-])=O)(=O)SCCNC(=O)CCNC([C@H](O)C(C)(C)COP(=O)([O-])OC[C@H](N[a\n",
      "RDKit ERROR: [10:37:17] SMILES Parse Error: Failed parsing SMILES 'C(CCCCCC([O-])=O)(=O)SCCNC(=O)CCNC([C@H](O)C(C)(C)COP(=O)([O-])OC[C@H](N[a' for input: 'C(CCCCCC([O-])=O)(=O)SCCNC(=O)CCNC([C@H](O)C(C)(C)COP(=O)([O-])OC[C@H](N[a'\n",
      "RDKit ERROR: [10:37:17] SMILES Parse Error: syntax error while parsing: COC(=O)CCCCCC(=O)SCCNC(=O)CCNC([C@H](O)C(C)(C)COP(=O)([O-])OC[C@H](N[a\n",
      "RDKit ERROR: [10:37:17] SMILES Parse Error: Failed parsing SMILES 'COC(=O)CCCCCC(=O)SCCNC(=O)CCNC([C@H](O)C(C)(C)COP(=O)([O-])OC[C@H](N[a' for input: 'COC(=O)CCCCCC(=O)SCCNC(=O)CCNC([C@H](O)C(C)(C)COP(=O)([O-])OC[C@H](N[a'\n",
      "RDKit ERROR: [10:37:22] SMILES Parse Error: syntax error while parsing: C1([R1])(=C([R4])C(=O)C(/[R3])=C([R2])/C(=O)1)\n",
      "RDKit ERROR: [10:37:22] SMILES Parse Error: Failed parsing SMILES 'C1([R1])(=C([R4])C(=O)C(/[R3])=C([R2])/C(=O)1)' for input: 'C1([R1])(=C([R4])C(=O)C(/[R3])=C([R2])/C(=O)1)'\n",
      "RDKit ERROR: [10:37:22] SMILES Parse Error: syntax error while parsing: C1([R1])(=C([R4])C(/O)=C([R3])\\C(/[R2])=C1\\O)\n",
      "RDKit ERROR: [10:37:22] SMILES Parse Error: Failed parsing SMILES 'C1([R1])(=C([R4])C(/O)=C([R3])\\C(/[R2])=C1\\O)' for input: 'C1([R1])(=C([R4])C(/O)=C([R3])\\C(/[R2])=C1\\O)'\n"
     ]
    },
    {
     "name": "stderr",
     "output_type": "stream",
     "text": [
      "RDKit ERROR: [10:37:28] UFFTYPER: Unrecognized charge state for atom: 1\n",
      "RDKit ERROR: [10:37:28] UFFTYPER: Unrecognized charge state for atom: 1\n",
      "RDKit ERROR: [10:37:28] UFFTYPER: Unrecognized charge state for atom: 1\n",
      "RDKit ERROR: [10:37:28] UFFTYPER: Unrecognized charge state for atom: 0\n",
      "RDKit WARNING: [10:37:28] Warning: molecule is tagged as 3D, but all Z coords are zero\n",
      "RDKit ERROR: [10:37:28] UFFTYPER: Unrecognized atom type: Se2+2 (4)\n",
      "RDKit ERROR: [10:37:28] UFFTYPER: Unrecognized hybridization for atom: 14\n",
      "RDKit ERROR: [10:37:28] UFFTYPER: Unrecognized atom type: Fe (14)\n",
      "RDKit ERROR: [10:41:58] UFFTYPER: Unrecognized charge state for atom: 1\n",
      "RDKit ERROR: [10:41:58] UFFTYPER: Unrecognized charge state for atom: 1\n",
      "RDKit ERROR: [10:41:58] UFFTYPER: Unrecognized charge state for atom: 1\n",
      "RDKit WARNING: [10:41:58] Warning: molecule is tagged as 3D, but all Z coords are zero\n",
      "RDKit WARNING: [10:41:58] Warning: molecule is tagged as 3D, but all Z coords are zero\n",
      "RDKit WARNING: [10:41:58] Warning: molecule is tagged as 3D, but all Z coords are zero\n",
      "RDKit WARNING: [10:42:00] Warning: molecule is tagged as 3D, but all Z coords are zero\n",
      "RDKit WARNING: [10:42:00] Warning: molecule is tagged as 3D, but all Z coords are zero\n",
      "RDKit WARNING: [10:42:00] Warning: molecule is tagged as 3D, but all Z coords are zero\n",
      "RDKit ERROR: [10:42:03] SMILES Parse Error: syntax error while parsing: CCCCCCCCC/C=C/C(=O)SCCNC(=O)CCNC([C@H](O)C(C)(C)COP(=O)([O-])OC[C@H](N[a\n",
      "RDKit ERROR: [10:42:03] SMILES Parse Error: Failed parsing SMILES 'CCCCCCCCC/C=C/C(=O)SCCNC(=O)CCNC([C@H](O)C(C)(C)COP(=O)([O-])OC[C@H](N[a' for input: 'CCCCCCCCC/C=C/C(=O)SCCNC(=O)CCNC([C@H](O)C(C)(C)COP(=O)([O-])OC[C@H](N[a'\n",
      "RDKit ERROR: [10:42:03] SMILES Parse Error: syntax error while parsing: CCC/C=C/C(=O)SCCNC(=O)CCNC([C@H](O)C(C)(C)COP(=O)([O-])OC[C@H](N[a\n",
      "RDKit ERROR: [10:42:03] SMILES Parse Error: Failed parsing SMILES 'CCC/C=C/C(=O)SCCNC(=O)CCNC([C@H](O)C(C)(C)COP(=O)([O-])OC[C@H](N[a' for input: 'CCC/C=C/C(=O)SCCNC(=O)CCNC([C@H](O)C(C)(C)COP(=O)([O-])OC[C@H](N[a'\n",
      "RDKit ERROR: [10:42:03] SMILES Parse Error: syntax error while parsing: C([R])C(O)C(O)[C@H]2(CNC1(\\C(C(\\N=C(N)/N=1)=O)N2))\n",
      "RDKit ERROR: [10:42:03] SMILES Parse Error: Failed parsing SMILES 'C([R])C(O)C(O)[C@H]2(CNC1(\\C(C(\\N=C(N)/N=1)=O)N2))' for input: 'C([R])C(O)C(O)[C@H]2(CNC1(\\C(C(\\N=C(N)/N=1)=O)N2))'\n",
      "RDKit ERROR: [10:42:03] SMILES Parse Error: syntax error while parsing: CCCCCCCCCCC/C=C/C(SCCNC(=O)CCNC([C@H](O)C(C)(C)COP(=O)([O-])OC[C@H](N[a\n",
      "RDKit ERROR: [10:42:03] SMILES Parse Error: Failed parsing SMILES 'CCCCCCCCCCC/C=C/C(SCCNC(=O)CCNC([C@H](O)C(C)(C)COP(=O)([O-])OC[C@H](N[a' for input: 'CCCCCCCCCCC/C=C/C(SCCNC(=O)CCNC([C@H](O)C(C)(C)COP(=O)([O-])OC[C@H](N[a'\n",
      "RDKit ERROR: [10:42:03] SMILES Parse Error: syntax error while parsing: CCCCC/C=C/C(=O)SCCNC(=O)CCNC([C@H](O)C(C)(C)COP(=O)([O-])OC[C@H](N[a\n",
      "RDKit ERROR: [10:42:03] SMILES Parse Error: Failed parsing SMILES 'CCCCC/C=C/C(=O)SCCNC(=O)CCNC([C@H](O)C(C)(C)COP(=O)([O-])OC[C@H](N[a' for input: 'CCCCC/C=C/C(=O)SCCNC(=O)CCNC([C@H](O)C(C)(C)COP(=O)([O-])OC[C@H](N[a'\n",
      "RDKit ERROR: [10:42:03] SMILES Parse Error: syntax error while parsing: CCCCCCCCCCCCCCC/C=C/C(SCCNC(=O)CCNC([C@H](O)C(C)(C)COP(=O)([O-])OC[C@H](N[a\n",
      "RDKit ERROR: [10:42:03] SMILES Parse Error: Failed parsing SMILES 'CCCCCCCCCCCCCCC/C=C/C(SCCNC(=O)CCNC([C@H](O)C(C)(C)COP(=O)([O-])OC[C@H](N[a' for input: 'CCCCCCCCCCCCCCC/C=C/C(SCCNC(=O)CCNC([C@H](O)C(C)(C)COP(=O)([O-])OC[C@H](N[a'\n",
      "RDKit ERROR: [10:42:03] SMILES Parse Error: syntax error while parsing: CCCCCCCCCCCCC/C=C/C(SCCNC(=O)CCNC([C@H](O)C(C)(C)COP(=O)([O-])OC[C@H](N[a\n",
      "RDKit ERROR: [10:42:03] SMILES Parse Error: Failed parsing SMILES 'CCCCCCCCCCCCC/C=C/C(SCCNC(=O)CCNC([C@H](O)C(C)(C)COP(=O)([O-])OC[C@H](N[a' for input: 'CCCCCCCCCCCCC/C=C/C(SCCNC(=O)CCNC([C@H](O)C(C)(C)COP(=O)([O-])OC[C@H](N[a'\n",
      "RDKit ERROR: [10:42:03] SMILES Parse Error: syntax error while parsing: C1(=O)(NC([R2])C(=O)NC(CSSCC(N[a\n",
      "RDKit ERROR: [10:42:03] SMILES Parse Error: Failed parsing SMILES 'C1(=O)(NC([R2])C(=O)NC(CSSCC(N[a' for input: 'C1(=O)(NC([R2])C(=O)NC(CSSCC(N[a'\n",
      "RDKit ERROR: [10:42:03] SMILES Parse Error: syntax error while parsing: C(S)C(C(=O)NC([R1])C(=O)NC([R2])C(=O)NC(CS)C(=O)[a\n",
      "RDKit ERROR: [10:42:03] SMILES Parse Error: Failed parsing SMILES 'C(S)C(C(=O)NC([R1])C(=O)NC([R2])C(=O)NC(CS)C(=O)[a' for input: 'C(S)C(C(=O)NC([R1])C(=O)NC([R2])C(=O)NC(CS)C(=O)[a'\n",
      "RDKit ERROR: [10:42:04] SMILES Parse Error: syntax error while parsing: C(OP([O-])(=O)O[a\n",
      "RDKit ERROR: [10:42:04] SMILES Parse Error: Failed parsing SMILES 'C(OP([O-])(=O)O[a' for input: 'C(OP([O-])(=O)O[a'\n",
      "RDKit ERROR: [10:42:04] UFFTYPER: Unrecognized atom type: W_3 (1)\n",
      "RDKit ERROR: [10:42:04] UFFTYPER: Unrecognized atom type: W_3 (1)\n",
      "RDKit ERROR: [10:42:04] UFFTYPER: Unrecognized atom type: W_3 (1)\n"
     ]
    },
    {
     "name": "stdout",
     "output_type": "stream",
     "text": [
      "0 non réussi sur 1402\n"
     ]
    }
   ],
   "source": [
    "for met in Metabolites.objects.exclude(smiles=None):\n",
    "    count=0\n",
    "    try:\n",
    "        mol = Chem.MolFromSmiles(met.smiles)\n",
    "        ## adding hydrogenes and removes them to get 3D coordonates cf RDKIT\n",
    "        m2 = Chem.AddHs(mol)\n",
    "        AllChem.EmbedMolecule(m2,randomSeed=0xf00d)\n",
    "        m2 = Chem.RemoveHs(m2)   \n",
    "        molfile = met.id+'.mol'\n",
    "        ## store coordonate to a molfile\n",
    "        print(Chem.MolToMolBlock(m2),file=open(os.path.join(STATICFILES_DIRS[0], 'images','mol_files',molfile),'w+'))\n",
    "        ## reading molfile as mol and generating a pdb file for 3Dmol.js\n",
    "        mol3d = Chem.rdmolfiles.MolFromMolFile(os.path.join(STATICFILES_DIRS[0], 'images','mol_files',molfile))\n",
    "        pdbfile = met.id+'.pdb'\n",
    "        img=Chem.rdmolfiles.MolToPDBFile(mol3d, os.path.join(STATICFILES_DIRS[0], 'images','pdb_files',pdbfile))\n",
    "    except:\n",
    "        count+= 1\n",
    "print(count, 'non réussi sur', len(Metabolites.objects.exclude(smiles=None)))"
   ]
  },
  {
   "cell_type": "markdown",
   "metadata": {},
   "source": [
    "### adding all reactions in the database"
   ]
  },
  {
   "cell_type": "code",
   "execution_count": 21,
   "metadata": {},
   "outputs": [
    {
     "name": "stdout",
     "output_type": "stream",
     "text": [
      "0.0\n"
     ]
    }
   ],
   "source": [
    "for reac in model.reactions:\n",
    "    #print(reac.id, reac.name, reac.subsystem, reac.notes, reac.annotation)\n",
    "    print(reac.lower_bound)\n",
    "    \n",
    "    break"
   ]
  },
  {
   "cell_type": "code",
   "execution_count": 24,
   "metadata": {},
   "outputs": [],
   "source": [
    "gsmodel = GSModels.objects.get(id=model.id)\n",
    "for reac in model.reactions:\n",
    "    reaction = Reactions(id=reac.id, name=reac.name, subsystem=reac.subsystem)\n",
    "    reaction.save()\n",
    "    \n",
    "    # bigg ids\n",
    "    bigg_ids = reac.annotation.get('bigg.reaction',None)\n",
    "    reaction.bigg = bigg_ids[0] if bigg_ids is not None else None\n",
    "    # biocyc\n",
    "    biocyc = reac.annotation.get('biocyc', None)\n",
    "    reaction.biocyc = biocyc[0] if biocyc is not None else None\n",
    "    # hmdb\n",
    "    hmdb = reac.annotation.get('hmdb', None)\n",
    "    reaction.hmdb = hmdb[0] if hmdb is not None else None\n",
    "    # ec_number\n",
    "    ec_number = reac.annotation.get('ec-code', None)\n",
    "    reaction.ec_number = ' '.join(ec_number) if ec_number is not None else None\n",
    "    # kegg\n",
    "    kegg = reac.annotation.get('kegg.reaction', None)\n",
    "    reaction.kegg = kegg[0] if kegg is not None else None\n",
    "    # metanetx.reaction\n",
    "    mnxr = reac.annotation.get('metanetx.reaction', None)\n",
    "    reaction.mnxr = mnxr[0] if mnxr is not None else None\n",
    "    # rhea\n",
    "    rhea = reac.annotation.get('rhea', None)\n",
    "    reaction.rhea = rhea[0] if rhea is not None else None\n",
    "    # sbo\n",
    "    sbo = reac.annotation.get('sbo', None)\n",
    "    reaction.sbo = sbo[0] if sbo is not None else None\n",
    "    # seed.compound'\n",
    "    seed = reac.annotation.get('seed.reaction', None)\n",
    "    reaction.seed = seed[0] if seed is not None else None\n",
    "    \n",
    "    # Substrates\n",
    "    for sub in reac.reactants:\n",
    "        substrate = Metabolites.objects.get(id=sub.id)\n",
    "        reaction.substrates.add(substrate, through_defaults={'stochiometry':reac.get_coefficient(sub.id)})\n",
    "    \n",
    "    # Products \n",
    "    for prod in reac.products:\n",
    "        product = Metabolites.objects.get(id=prod.id)\n",
    "        reaction.products.add(product, through_defaults={'stochiometry':reac.get_coefficient(prod.id)})\n",
    "        \n",
    "    # Model\n",
    "    reaction.models.add(gsmodel, through_defaults={'lower_bound':reac.lower_bound, 'upper_bound':reac.upper_bound})\n",
    "    \n",
    "    reaction.save()"
   ]
  },
  {
   "cell_type": "code",
   "execution_count": 23,
   "metadata": {},
   "outputs": [
    {
     "data": {
      "text/plain": [
       "(16002,\n",
       " {'modelisation.Genes_reaction': 0,\n",
       "  'modelisation.Reaction_substrates': 5248,\n",
       "  'modelisation.Reaction_products': 5328,\n",
       "  'modelisation.Reaction_model': 2712,\n",
       "  'modelisation.Reactions': 2714})"
      ]
     },
     "execution_count": 23,
     "metadata": {},
     "output_type": "execute_result"
    }
   ],
   "source": [
    "Reactions.objects.all().delete()"
   ]
  },
  {
   "cell_type": "code",
   "execution_count": null,
   "metadata": {},
   "outputs": [],
   "source": []
  },
  {
   "cell_type": "code",
   "execution_count": 11,
   "metadata": {},
   "outputs": [
    {
     "data": {
      "text/plain": [
       "<QuerySet [<GSModels: iML1515>]>"
      ]
     },
     "execution_count": 11,
     "metadata": {},
     "output_type": "execute_result"
    }
   ],
   "source": [
    "GSModels.objects.all()"
   ]
  },
  {
   "cell_type": "code",
   "execution_count": 8,
   "metadata": {
    "scrolled": true
   },
   "outputs": [
    {
     "data": {
      "text/plain": [
       "(3,\n",
       " {'modelisation.GSModels_metabolites': 0,\n",
       "  'modelisation.GSModels_genes': 0,\n",
       "  'modelisation.Reaction_model': 1,\n",
       "  'modelisation.GSModels': 2})"
      ]
     },
     "execution_count": 8,
     "metadata": {},
     "output_type": "execute_result"
    }
   ],
   "source": [
    "GSModels.objects.all().delete()"
   ]
  },
  {
   "cell_type": "code",
   "execution_count": null,
   "metadata": {},
   "outputs": [],
   "source": []
  },
  {
   "cell_type": "code",
   "execution_count": 14,
   "metadata": {},
   "outputs": [],
   "source": [
    "wd = os.path.dirname(os.getcwd())+'/'\n",
    "dirmodels = wd+'static/metabolic/models_old/'\n",
    "dirout = wd+'static/metabolic/models/'"
   ]
  },
  {
   "cell_type": "code",
   "execution_count": 9,
   "metadata": {},
   "outputs": [
    {
     "data": {
      "text/plain": [
       "['iHN637.json',\n",
       " 'RECON1.json',\n",
       " 'iML1515.json',\n",
       " 'iML1515_PKT_old.json',\n",
       " 'iJO1366.json',\n",
       " 'iML1515_PKT.json']"
      ]
     },
     "execution_count": 9,
     "metadata": {},
     "output_type": "execute_result"
    }
   ],
   "source": [
    "os.listdir(dirmodels)"
   ]
  },
  {
   "cell_type": "code",
   "execution_count": 7,
   "metadata": {},
   "outputs": [],
   "source": [
    "# os.system('cp /home/frek/Desktop/ibn_pathway.xlsx /media/frek/Storage/projects/chemocobra/ipynb')\n",
    "data_ibn = pd.read_excel('ibn_pathway.xlsx',index_col=0,sheet_name=None)"
   ]
  },
  {
   "cell_type": "code",
   "execution_count": 8,
   "metadata": {},
   "outputs": [
    {
     "data": {
      "text/html": [
       "<div>\n",
       "<style scoped>\n",
       "    .dataframe tbody tr th:only-of-type {\n",
       "        vertical-align: middle;\n",
       "    }\n",
       "\n",
       "    .dataframe tbody tr th {\n",
       "        vertical-align: top;\n",
       "    }\n",
       "\n",
       "    .dataframe thead th {\n",
       "        text-align: right;\n",
       "    }\n",
       "</style>\n",
       "<table border=\"1\" class=\"dataframe\">\n",
       "  <thead>\n",
       "    <tr style=\"text-align: right;\">\n",
       "      <th></th>\n",
       "      <th>name</th>\n",
       "      <th>lower_bound</th>\n",
       "      <th>upper_bound</th>\n",
       "      <th>gene_reaction_rule</th>\n",
       "      <th>reaction</th>\n",
       "    </tr>\n",
       "    <tr>\n",
       "      <th>id</th>\n",
       "      <th></th>\n",
       "      <th></th>\n",
       "      <th></th>\n",
       "      <th></th>\n",
       "      <th></th>\n",
       "    </tr>\n",
       "  </thead>\n",
       "  <tbody>\n",
       "    <tr>\n",
       "      <th>HMGCS</th>\n",
       "      <td>HMG-CoA Synthase</td>\n",
       "      <td>-1000</td>\n",
       "      <td>1000</td>\n",
       "      <td>S318</td>\n",
       "      <td>aacoa_c + accoa_c + h2o_c &lt;==&gt; hmgcoa_c + coa_...</td>\n",
       "    </tr>\n",
       "    <tr>\n",
       "      <th>ECH</th>\n",
       "      <td>HMG-CoA Dehydratase</td>\n",
       "      <td>-1000</td>\n",
       "      <td>1000</td>\n",
       "      <td>ECH</td>\n",
       "      <td>hmgcoa_c &lt;==&gt; mgcoa_c + h2o_c</td>\n",
       "    </tr>\n",
       "    <tr>\n",
       "      <th>AIBAB</th>\n",
       "      <td>MG-CoA Decarboxylase</td>\n",
       "      <td>0</td>\n",
       "      <td>1000</td>\n",
       "      <td>(aibA and aibB)</td>\n",
       "      <td>mgcoa_c + h_c → mccoa_c + co2_c</td>\n",
       "    </tr>\n",
       "    <tr>\n",
       "      <th>TESB</th>\n",
       "      <td>Acyl-CoA Thioesterase</td>\n",
       "      <td>-1000</td>\n",
       "      <td>1000</td>\n",
       "      <td>b0452</td>\n",
       "      <td>mccoa_c + h2o_c → mca_c + coa_c</td>\n",
       "    </tr>\n",
       "    <tr>\n",
       "      <th>SS5</th>\n",
       "      <td>Prenate decarboxylase</td>\n",
       "      <td>0</td>\n",
       "      <td>1000</td>\n",
       "      <td>ss5</td>\n",
       "      <td>mca_c → ibn_c + co2_c</td>\n",
       "    </tr>\n",
       "    <tr>\n",
       "      <th>EX_IBN_e</th>\n",
       "      <td>IBN Exchange</td>\n",
       "      <td>0</td>\n",
       "      <td>1000</td>\n",
       "      <td>NaN</td>\n",
       "      <td>ibn_c →</td>\n",
       "    </tr>\n",
       "    <tr>\n",
       "      <th>ACACDCBX</th>\n",
       "      <td>Acetoacetate Decarboxylase</td>\n",
       "      <td>0</td>\n",
       "      <td>1000</td>\n",
       "      <td>NaN</td>\n",
       "      <td>acac_c + h_c --&gt;  acetone_c + co2_c</td>\n",
       "    </tr>\n",
       "    <tr>\n",
       "      <th>IPRNADH</th>\n",
       "      <td>Propane 2-Monooxygenase (EC 1.14.13.227)</td>\n",
       "      <td>-1000</td>\n",
       "      <td>1000</td>\n",
       "      <td>NaN</td>\n",
       "      <td>acetone_c + h_c + nadh_c --&gt; ipa_c + nad_c</td>\n",
       "    </tr>\n",
       "    <tr>\n",
       "      <th>IPRNADPH</th>\n",
       "      <td>Isopropanol Dehydrogenase (EC 1.1.1.80)</td>\n",
       "      <td>-1000</td>\n",
       "      <td>1000</td>\n",
       "      <td>NaN</td>\n",
       "      <td>acetone_c + h_c + nadph_c --&gt; ipa_c + nadp_c</td>\n",
       "    </tr>\n",
       "    <tr>\n",
       "      <th>EX_acetone</th>\n",
       "      <td>Acetone Exchange</td>\n",
       "      <td>0</td>\n",
       "      <td>1000</td>\n",
       "      <td>NaN</td>\n",
       "      <td>acetone_c --&gt;</td>\n",
       "    </tr>\n",
       "    <tr>\n",
       "      <th>EX_ipa</th>\n",
       "      <td>Isopropanol Exchange</td>\n",
       "      <td>0</td>\n",
       "      <td>1000</td>\n",
       "      <td>NaN</td>\n",
       "      <td>ipa_c --&gt;</td>\n",
       "    </tr>\n",
       "  </tbody>\n",
       "</table>\n",
       "</div>"
      ],
      "text/plain": [
       "                                                name  lower_bound  \\\n",
       "id                                                                  \n",
       "HMGCS                               HMG-CoA Synthase        -1000   \n",
       "ECH                              HMG-CoA Dehydratase        -1000   \n",
       "AIBAB                           MG-CoA Decarboxylase            0   \n",
       "TESB                           Acyl-CoA Thioesterase        -1000   \n",
       "SS5                            Prenate decarboxylase            0   \n",
       "EX_IBN_e                                IBN Exchange            0   \n",
       "ACACDCBX                  Acetoacetate Decarboxylase            0   \n",
       "IPRNADH     Propane 2-Monooxygenase (EC 1.14.13.227)        -1000   \n",
       "IPRNADPH    Isopropanol Dehydrogenase (EC 1.1.1.80)         -1000   \n",
       "EX_acetone                          Acetone Exchange            0   \n",
       "EX_ipa                          Isopropanol Exchange            0   \n",
       "\n",
       "            upper_bound gene_reaction_rule  \\\n",
       "id                                           \n",
       "HMGCS              1000               S318   \n",
       "ECH                1000                ECH   \n",
       "AIBAB              1000    (aibA and aibB)   \n",
       "TESB               1000              b0452   \n",
       "SS5                1000                ss5   \n",
       "EX_IBN_e           1000                NaN   \n",
       "ACACDCBX           1000                NaN   \n",
       "IPRNADH            1000                NaN   \n",
       "IPRNADPH           1000                NaN   \n",
       "EX_acetone         1000                NaN   \n",
       "EX_ipa             1000                NaN   \n",
       "\n",
       "                                                     reaction  \n",
       "id                                                             \n",
       "HMGCS       aacoa_c + accoa_c + h2o_c <==> hmgcoa_c + coa_...  \n",
       "ECH                             hmgcoa_c <==> mgcoa_c + h2o_c  \n",
       "AIBAB                         mgcoa_c + h_c → mccoa_c + co2_c  \n",
       "TESB                          mccoa_c + h2o_c → mca_c + coa_c  \n",
       "SS5                                     mca_c → ibn_c + co2_c  \n",
       "EX_IBN_e                                             ibn_c →   \n",
       "ACACDCBX                  acac_c + h_c -->  acetone_c + co2_c  \n",
       "IPRNADH            acetone_c + h_c + nadh_c --> ipa_c + nad_c  \n",
       "IPRNADPH         acetone_c + h_c + nadph_c --> ipa_c + nadp_c  \n",
       "EX_acetone                                     acetone_c -->   \n",
       "EX_ipa                                             ipa_c -->   "
      ]
     },
     "execution_count": 8,
     "metadata": {},
     "output_type": "execute_result"
    }
   ],
   "source": [
    "data_ibn['reactions']"
   ]
  },
  {
   "cell_type": "code",
   "execution_count": 11,
   "metadata": {},
   "outputs": [
    {
     "data": {
      "text/plain": [
       "['iHN637.json',\n",
       " 'RECON1.json',\n",
       " 'iML1515.json',\n",
       " 'iJO1366.json',\n",
       " 'iML1515_PKT.json']"
      ]
     },
     "execution_count": 11,
     "metadata": {},
     "output_type": "execute_result"
    }
   ],
   "source": [
    "[f for f in os.listdir(dirmodels) if 'old' not in f]"
   ]
  },
  {
   "cell_type": "code",
   "execution_count": 15,
   "metadata": {},
   "outputs": [
    {
     "name": "stdout",
     "output_type": "stream",
     "text": [
      "unknown metabolite 'acac_c' created\n",
      "iHN637 OK\n",
      "RECON1 OK\n",
      "ACACCT changed for iML1515\n",
      "iML1515 13.841159420289856\n",
      "iML1515 OK\n",
      "ACACCT changed for iJO1366\n",
      "iJO1366 OK\n",
      "ACACCT changed for iML1515_PKT_old\n",
      "iML1515_PKT_old 14.792380952380945\n",
      "iML1515_PKT OK\n"
     ]
    }
   ],
   "source": [
    "mets = {}\n",
    "## Charge metabolites\n",
    "for m_id in data_ibn['metabolites'].index:\n",
    "    mets[m_id] = Metabolite(\n",
    "        id = m_id,\n",
    "        name = data_ibn['metabolites'].loc[m_id,'name'],\n",
    "        formula = data_ibn['metabolites'].loc[m_id,'formula'],\n",
    "        compartment = data_ibn['metabolites'].loc[m_id,'compartment']\n",
    "    )\n",
    "#     print(m_id,'charge:',mets[m_id].charge)\n",
    "    \n",
    "for filename in [f for f in os.listdir(dirmodels) if 'old' not in f]:\n",
    "    model = cameo.load_model(dirmodels+filename)\n",
    "    model.add_metabolites(mets.values())    \n",
    "    ## add reactions\n",
    "    for r_id in data_ibn['reactions'].index:\n",
    "        r = Reaction(\n",
    "            id = r_id,\n",
    "            name = data_ibn['reactions'].loc[r_id,'name'],\n",
    "            subsystem = 'IBN Pathway D',\n",
    "            lower_bound = data_ibn['reactions'].loc[r_id,'lower_bound'],\n",
    "            upper_bound = data_ibn['reactions'].loc[r_id,'upper_bound']\n",
    "        )\n",
    "        model.add_reaction(r)\n",
    "        r.reaction = data_ibn['reactions'].loc[r_id,'reaction'].replace('→','-->')\n",
    "        balanced = r.check_mass_balance()\n",
    "    \n",
    "    try:\n",
    "        ACACCT = model.reactions.get_by_id('ACACCT')\n",
    "    except:\n",
    "        pass\n",
    "    else:\n",
    "        ACACCT.lower_bound = -1000\n",
    "        print('ACACCT changed for',model.id)\n",
    "            \n",
    "    if 'iML1515' in model.id:\n",
    "        model.objective = 'EX_acetone'\n",
    "        res = model.optimize()\n",
    "        print(model.id, res.objective_value)\n",
    "    \n",
    "    if model.id == 'iML1515_PKT_old':\n",
    "        model.id = 'iML1515_PKT'\n",
    "    cobra.io.save_json_model(model, dirout+filename)\n",
    "    \n",
    "    print(model.id, 'OK')\n",
    "    "
   ]
  },
  {
   "cell_type": "code",
   "execution_count": null,
   "metadata": {},
   "outputs": [],
   "source": []
  },
  {
   "cell_type": "code",
   "execution_count": 28,
   "metadata": {},
   "outputs": [],
   "source": [
    "\n",
    "import requests\n",
    "\n",
    "S = requests.Session()\n",
    "\n",
    "URL = \"https://en.wikipedia.org/w/api.php\"\n",
    "\n",
    "SEARCHPAGE = \"isobutene\"\n",
    "\n",
    "PARAMS = {\n",
    "    \"action\": \"query\",\n",
    "    \"format\": \"json\",\n",
    "    \"list\": \"search\",\n",
    "    \"srsearch\": SEARCHPAGE\n",
    "}\n",
    "\n",
    "R = S.get(url=URL, params=PARAMS)\n",
    "DATA = R.json()\n",
    "\n",
    "if DATA['query']['search'][0]['title'] == SEARCHPAGE:\n",
    "    print(\"Your search page '\" + SEARCHPAGE + \"' exists on English Wikipedia\")"
   ]
  },
  {
   "cell_type": "code",
   "execution_count": 30,
   "metadata": {},
   "outputs": [
    {
     "data": {
      "text/plain": [
       "{'ns': 0,\n",
       " 'title': 'Isobutylene',\n",
       " 'pageid': 1596651,\n",
       " 'size': 5767,\n",
       " 'wordcount': 424,\n",
       " 'snippet': 'Drugs, and Biologicals (11th ed.), Merck, 1989, ISBN\\xa0091191028X, 5024. <span class=\"searchmatch\">Isobutene</span>, International Chemical Safety Card 1027, Geneva: International Programme',\n",
       " 'timestamp': '2020-08-17T11:54:55Z'}"
      ]
     },
     "execution_count": 30,
     "metadata": {},
     "output_type": "execute_result"
    }
   ],
   "source": [
    "DATA['query']['search'][0]"
   ]
  },
  {
   "cell_type": "code",
   "execution_count": 31,
   "metadata": {},
   "outputs": [],
   "source": [
    "import wikipedia"
   ]
  },
  {
   "cell_type": "code",
   "execution_count": 32,
   "metadata": {},
   "outputs": [
    {
     "name": "stdout",
     "output_type": "stream",
     "text": [
      "Isobutylene (or 2-methylpropene) is a hydrocarbon with the formula (CH3)2C=CH2.  It is a four-carbon branched alkene (olefin), one of the four isomers of butylene.  A colourless flammable gas, it is of considerable industrial value.\n"
     ]
    }
   ],
   "source": [
    "print(wikipedia.summary(\"isobutene\"))"
   ]
  },
  {
   "cell_type": "code",
   "execution_count": null,
   "metadata": {},
   "outputs": [],
   "source": []
  }
 ],
 "metadata": {
  "kernelspec": {
   "display_name": "Python 3",
   "language": "python",
   "name": "python3"
  },
  "language_info": {
   "codemirror_mode": {
    "name": "ipython",
    "version": 3
   },
   "file_extension": ".py",
   "mimetype": "text/x-python",
   "name": "python",
   "nbconvert_exporter": "python",
   "pygments_lexer": "ipython3",
   "version": "3.8.3"
  }
 },
 "nbformat": 4,
 "nbformat_minor": 2
}

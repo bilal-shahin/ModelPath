{
 "cells": [
  {
   "cell_type": "code",
   "execution_count": 1,
   "metadata": {},
   "outputs": [],
   "source": [
    "#import cameo\n",
    "import cobra\n",
    "import os\n",
    "import pandas as pd\n",
    "from cobra.core import Metabolite, Reaction\n"
   ]
  },
  {
   "cell_type": "code",
   "execution_count": 2,
   "metadata": {},
   "outputs": [],
   "source": [
    "import os\n",
    "import sys\n",
    "MODELPATH_DIR = '/home/shahin/workspace/discngine_demo/discngine'\n",
    "#BACK_DIR = os.path.join(MODELPATH_DIR,'backend')\n",
    "sys.path.insert(0,MODELPATH_DIR)\n",
    "os.environ.setdefault('DJANGO_SETTINGS_MODULE','discngine.settings')\n",
    "os.environ[\"DJANGO_ALLOW_ASYNC_UNSAFE\"] = \"true\"\n",
    "import django\n",
    "django.setup()\n",
    "from django.db.models import Count, Q\n",
    "#from load_data.models import *\n",
    "#from load_data.functions import *\n",
    "#from fermentations.models import *\n",
    "#from strain_construction.models import *\n",
    "import pandas as pd\n",
    "import regex as re\n",
    "import numpy as np\n",
    "#from modsouch.settings_dev import INPUT_DIR, STATIC_DIR\n",
    "#from load_data.functions import find_object_by_description"
   ]
  },
  {
   "cell_type": "code",
   "execution_count": 3,
   "metadata": {},
   "outputs": [],
   "source": [
    "from modelisation.models import GSModels, Genes, Metabolites, Reactions, Reaction_model, Reaction_products, Reaction_substrates"
   ]
  },
  {
   "cell_type": "code",
   "execution_count": 4,
   "metadata": {},
   "outputs": [],
   "source": [
    "#loading model\n",
    "model_paths = os.path.join(MODELPATH_DIR, 'static', 'models')\n",
    "model = cobra.io.load_json_model(model_paths+'/iML1515.json')"
   ]
  },
  {
   "cell_type": "code",
   "execution_count": 5,
   "metadata": {
    "scrolled": true
   },
   "outputs": [
    {
     "data": {
      "text/html": [
       "\n",
       "        <table>\n",
       "            <tr>\n",
       "                <td><strong>Name</strong></td>\n",
       "                <td>iML1515</td>\n",
       "            </tr><tr>\n",
       "                <td><strong>Memory address</strong></td>\n",
       "                <td>0x07f9d8db87f70</td>\n",
       "            </tr><tr>\n",
       "                <td><strong>Number of metabolites</strong></td>\n",
       "                <td>1877</td>\n",
       "            </tr><tr>\n",
       "                <td><strong>Number of reactions</strong></td>\n",
       "                <td>2712</td>\n",
       "            </tr><tr>\n",
       "                <td><strong>Number of groups</strong></td>\n",
       "                <td>0</td>\n",
       "            </tr><tr>\n",
       "                <td><strong>Objective expression</strong></td>\n",
       "                <td>1.0*BIOMASS_Ec_iML1515_core_75p37M - 1.0*BIOMASS_Ec_iML1515_core_75p37M_reverse_35685</td>\n",
       "            </tr><tr>\n",
       "                <td><strong>Compartments</strong></td>\n",
       "                <td>cytosol, extracellular space, periplasm</td>\n",
       "            </tr>\n",
       "          </table>"
      ],
      "text/plain": [
       "<Model iML1515 at 0x7f9d8db87f70>"
      ]
     },
     "execution_count": 5,
     "metadata": {},
     "output_type": "execute_result"
    }
   ],
   "source": [
    "model"
   ]
  },
  {
   "cell_type": "code",
   "execution_count": 8,
   "metadata": {
    "scrolled": true
   },
   "outputs": [
    {
     "data": {
      "text/plain": [
       "['__add__',\n",
       " '__class__',\n",
       " '__delattr__',\n",
       " '__dict__',\n",
       " '__dir__',\n",
       " '__doc__',\n",
       " '__enter__',\n",
       " '__eq__',\n",
       " '__exit__',\n",
       " '__format__',\n",
       " '__ge__',\n",
       " '__getattribute__',\n",
       " '__getstate__',\n",
       " '__gt__',\n",
       " '__hash__',\n",
       " '__iadd__',\n",
       " '__init__',\n",
       " '__init_subclass__',\n",
       " '__le__',\n",
       " '__lt__',\n",
       " '__module__',\n",
       " '__ne__',\n",
       " '__new__',\n",
       " '__reduce__',\n",
       " '__reduce_ex__',\n",
       " '__repr__',\n",
       " '__setattr__',\n",
       " '__setstate__',\n",
       " '__sizeof__',\n",
       " '__str__',\n",
       " '__subclasshook__',\n",
       " '__weakref__',\n",
       " '_annotation',\n",
       " '_compartments',\n",
       " '_contexts',\n",
       " '_id',\n",
       " '_populate_solver',\n",
       " '_repr_html_',\n",
       " '_set_id_with_model',\n",
       " '_solver',\n",
       " '_tolerance',\n",
       " '_trimmed',\n",
       " '_trimmed_genes',\n",
       " '_trimmed_reactions',\n",
       " 'add_boundary',\n",
       " 'add_cons_vars',\n",
       " 'add_groups',\n",
       " 'add_metabolites',\n",
       " 'add_reaction',\n",
       " 'add_reactions',\n",
       " 'annotation',\n",
       " 'boundary',\n",
       " 'compartments',\n",
       " 'constraints',\n",
       " 'copy',\n",
       " 'demands',\n",
       " 'description',\n",
       " 'exchanges',\n",
       " 'genes',\n",
       " 'get_associated_groups',\n",
       " 'get_metabolite_compartments',\n",
       " 'groups',\n",
       " 'id',\n",
       " 'medium',\n",
       " 'merge',\n",
       " 'metabolites',\n",
       " 'name',\n",
       " 'notes',\n",
       " 'objective',\n",
       " 'objective_direction',\n",
       " 'optimize',\n",
       " 'problem',\n",
       " 'reactions',\n",
       " 'remove_cons_vars',\n",
       " 'remove_groups',\n",
       " 'remove_metabolites',\n",
       " 'remove_reactions',\n",
       " 'repair',\n",
       " 'sinks',\n",
       " 'slim_optimize',\n",
       " 'solver',\n",
       " 'summary',\n",
       " 'tolerance',\n",
       " 'variables']"
      ]
     },
     "execution_count": 8,
     "metadata": {},
     "output_type": "execute_result"
    }
   ],
   "source": [
    "dir(model)"
   ]
  },
  {
   "cell_type": "markdown",
   "metadata": {},
   "source": [
    "### Adding a new model in the database"
   ]
  },
  {
   "cell_type": "code",
   "execution_count": 10,
   "metadata": {},
   "outputs": [],
   "source": [
    "iml1515 = GSModels(id=model.id, organism='E.Coli', objective=model.objective, nb_reactions=len(model.reactions), nb_metabolites=len(model.metabolites))\n",
    "iml1515.save()"
   ]
  },
  {
   "cell_type": "markdown",
   "metadata": {},
   "source": [
    "### adding all metabolites"
   ]
  },
  {
   "cell_type": "code",
   "execution_count": 6,
   "metadata": {},
   "outputs": [
    {
     "name": "stderr",
     "output_type": "stream",
     "text": [
      "/home/shahin/anaconda3/envs/prog/lib/python3.8/site-packages/cobra/core/metabolite.py:136: UserWarning: The element 'X' does not appear in the periodic table\n",
      "  warn(\"The element %s does not appear in the periodic table\" % e)\n",
      "/home/shahin/anaconda3/envs/prog/lib/python3.8/site-packages/cobra/core/metabolite.py:136: UserWarning: The element 'R' does not appear in the periodic table\n",
      "  warn(\"The element %s does not appear in the periodic table\" % e)\n"
     ]
    }
   ],
   "source": [
    "for met in model.metabolites:\n",
    "    metabolite = Metabolites(id=met.id, name=met.name, formula=met.formula, charge=met.charge, mol_weight=met.formula_weight)\n",
    "    metabolite.save()\n",
    "    \n",
    "    # bigg ids\n",
    "    bigg_ids = met.annotation.get('bigg.metabolite',None)\n",
    "    metabolite.bigg = bigg_ids[0] if bigg_ids is not None else None\n",
    "    # biocyc\n",
    "    biocyc = met.annotation.get('biocyc', None)\n",
    "    metabolite.biocyc = biocyc[0] if biocyc is not None else None\n",
    "    # chebi\n",
    "    chebi = met.annotation.get('chebi', None)\n",
    "    metabolite.chebi = chebi[0] if chebi is not None else None\n",
    "    # hmdb\n",
    "    hmdb = met.annotation.get('hmdb', None)\n",
    "    metabolite.hmdb = hmdb[0] if hmdb is not None else None\n",
    "    # inchi_key\n",
    "    inchi_key = met.annotation.get('inchi_key', None)\n",
    "    metabolite.inchikey = inchi_key[0] if inchi_key is not None else None\n",
    "    # kegg_compound\n",
    "    kegg_compound = met.annotation.get('kegg.compound', None)\n",
    "    metabolite.kegg_compound = kegg_compound[0] if kegg_compound is not None else None\n",
    "    # kegg_drug\n",
    "    kegg_drug = met.annotation.get('kegg.drug', None)\n",
    "    metabolite.kegg_drug = kegg_drug[0] if kegg_drug is not None else None\n",
    "    # metanetx.chemical\n",
    "    mnxm = met.annotation.get('metanetx.chemical', None)\n",
    "    metabolite.mnxm = mnxm[0] if mnxm is not None else None\n",
    "    # sabiork\n",
    "    sabiork = met.annotation.get('sabiork', None)\n",
    "    metabolite.sabiork = sabiork[0] if sabiork is not None else None\n",
    "    # sbo\n",
    "    sbo = met.annotation.get('sbo', None)\n",
    "    metabolite.sbo = sbo[0] if sbo is not None else None\n",
    "    # seed.compound'\n",
    "    seed = met.annotation.get('seed.compound', None)\n",
    "    metabolite.seed = seed[0] if seed is not None else None\n",
    "    \n",
    "    metabolite.save()"
   ]
  },
  {
   "cell_type": "markdown",
   "metadata": {},
   "source": [
    "###### adding smiles"
   ]
  },
  {
   "cell_type": "code",
   "execution_count": 5,
   "metadata": {},
   "outputs": [],
   "source": [
    "from selenium import webdriver\n",
    "from bs4 import BeautifulSoup"
   ]
  },
  {
   "cell_type": "code",
   "execution_count": 30,
   "metadata": {},
   "outputs": [
    {
     "name": "stdout",
     "output_type": "stream",
     "text": [
      "Synonyms\n",
      "SMILES\n",
      "InChI\n",
      "InChIKey\n",
      "Standard Gibbs Free Energy of Formation (ΔfG'°)\n"
     ]
    }
   ],
   "source": [
    "driver = webdriver.Chrome(\"/home/shahin/workspace/discngine_demo/data/chromedriver\")\n",
    "for met in Metabolites.objects.all():\n",
    "    if not met.smiles:\n",
    "        #url = 'identifiers.org/biocyc/'+met.biocyc\n",
    "        #print(url)\n",
    "        driver.get(\"https://biocyc.org/compound?orgid=META&id=\"+met.biocyc.split(':')[1])\n",
    "        content = driver.page_source\n",
    "        soup = BeautifulSoup(content)\n",
    "        #print(soup)\n",
    "        summary = soup.find('table', attrs={'class':\"summaryTable3\"})\n",
    "        for a in summary.findAll('td', attrs={'class':'label'}):\n",
    "            if a.text.strip() == 'SMILES':\n",
    "                print(a.next)\n",
    "                #print(dir(a))\n",
    "                #print(name)\n",
    "                break\n",
    "    break\n",
    "driver.close()    "
   ]
  },
  {
   "cell_type": "code",
   "execution_count": null,
   "metadata": {},
   "outputs": [],
   "source": []
  },
  {
   "cell_type": "code",
   "execution_count": null,
   "metadata": {},
   "outputs": [],
   "source": []
  },
  {
   "cell_type": "code",
   "execution_count": 28,
   "metadata": {},
   "outputs": [
    {
     "data": {
      "text/plain": [
       "(1883,\n",
       " {'modelisation.GSModels_metabolites': 0,\n",
       "  'modelisation.Reaction_substrates': 2,\n",
       "  'modelisation.Reaction_products': 1,\n",
       "  'modelisation.Metabolites': 1880})"
      ]
     },
     "execution_count": 28,
     "metadata": {},
     "output_type": "execute_result"
    }
   ],
   "source": [
    "Metabolites.objects.all().delete()"
   ]
  },
  {
   "cell_type": "code",
   "execution_count": null,
   "metadata": {},
   "outputs": [],
   "source": []
  },
  {
   "cell_type": "markdown",
   "metadata": {},
   "source": [
    "### adding all reactions in the database"
   ]
  },
  {
   "cell_type": "code",
   "execution_count": 21,
   "metadata": {},
   "outputs": [
    {
     "name": "stdout",
     "output_type": "stream",
     "text": [
      "0.0\n"
     ]
    }
   ],
   "source": [
    "for reac in model.reactions:\n",
    "    #print(reac.id, reac.name, reac.subsystem, reac.notes, reac.annotation)\n",
    "    print(reac.lower_bound)\n",
    "    \n",
    "    break"
   ]
  },
  {
   "cell_type": "code",
   "execution_count": 24,
   "metadata": {},
   "outputs": [],
   "source": [
    "gsmodel = GSModels.objects.get(id=model.id)\n",
    "for reac in model.reactions:\n",
    "    reaction = Reactions(id=reac.id, name=reac.name, subsystem=reac.subsystem)\n",
    "    reaction.save()\n",
    "    \n",
    "    # bigg ids\n",
    "    bigg_ids = reac.annotation.get('bigg.reaction',None)\n",
    "    reaction.bigg = bigg_ids[0] if bigg_ids is not None else None\n",
    "    # biocyc\n",
    "    biocyc = reac.annotation.get('biocyc', None)\n",
    "    reaction.biocyc = biocyc[0] if biocyc is not None else None\n",
    "    # hmdb\n",
    "    hmdb = reac.annotation.get('hmdb', None)\n",
    "    reaction.hmdb = hmdb[0] if hmdb is not None else None\n",
    "    # ec_number\n",
    "    ec_number = reac.annotation.get('ec-code', None)\n",
    "    reaction.ec_number = ' '.join(ec_number) if ec_number is not None else None\n",
    "    # kegg\n",
    "    kegg = reac.annotation.get('kegg.reaction', None)\n",
    "    reaction.kegg = kegg[0] if kegg is not None else None\n",
    "    # metanetx.reaction\n",
    "    mnxr = reac.annotation.get('metanetx.reaction', None)\n",
    "    reaction.mnxr = mnxr[0] if mnxr is not None else None\n",
    "    # rhea\n",
    "    rhea = reac.annotation.get('rhea', None)\n",
    "    reaction.rhea = rhea[0] if rhea is not None else None\n",
    "    # sbo\n",
    "    sbo = reac.annotation.get('sbo', None)\n",
    "    reaction.sbo = sbo[0] if sbo is not None else None\n",
    "    # seed.compound'\n",
    "    seed = reac.annotation.get('seed.reaction', None)\n",
    "    reaction.seed = seed[0] if seed is not None else None\n",
    "    \n",
    "    # Substrates\n",
    "    for sub in reac.reactants:\n",
    "        substrate = Metabolites.objects.get(id=sub.id)\n",
    "        reaction.substrates.add(substrate, through_defaults={'stochiometry':reac.get_coefficient(sub.id)})\n",
    "    \n",
    "    # Products \n",
    "    for prod in reac.products:\n",
    "        product = Metabolites.objects.get(id=prod.id)\n",
    "        reaction.products.add(product, through_defaults={'stochiometry':reac.get_coefficient(prod.id)})\n",
    "        \n",
    "    # Model\n",
    "    reaction.models.add(gsmodel, through_defaults={'lower_bound':reac.lower_bound, 'upper_bound':reac.upper_bound})\n",
    "    \n",
    "    reaction.save()"
   ]
  },
  {
   "cell_type": "code",
   "execution_count": 23,
   "metadata": {},
   "outputs": [
    {
     "data": {
      "text/plain": [
       "(16002,\n",
       " {'modelisation.Genes_reaction': 0,\n",
       "  'modelisation.Reaction_substrates': 5248,\n",
       "  'modelisation.Reaction_products': 5328,\n",
       "  'modelisation.Reaction_model': 2712,\n",
       "  'modelisation.Reactions': 2714})"
      ]
     },
     "execution_count": 23,
     "metadata": {},
     "output_type": "execute_result"
    }
   ],
   "source": [
    "Reactions.objects.all().delete()"
   ]
  },
  {
   "cell_type": "code",
   "execution_count": null,
   "metadata": {},
   "outputs": [],
   "source": []
  },
  {
   "cell_type": "code",
   "execution_count": 11,
   "metadata": {},
   "outputs": [
    {
     "data": {
      "text/plain": [
       "<QuerySet [<GSModels: iML1515>]>"
      ]
     },
     "execution_count": 11,
     "metadata": {},
     "output_type": "execute_result"
    }
   ],
   "source": [
    "GSModels.objects.all()"
   ]
  },
  {
   "cell_type": "code",
   "execution_count": 8,
   "metadata": {
    "scrolled": true
   },
   "outputs": [
    {
     "data": {
      "text/plain": [
       "(3,\n",
       " {'modelisation.GSModels_metabolites': 0,\n",
       "  'modelisation.GSModels_genes': 0,\n",
       "  'modelisation.Reaction_model': 1,\n",
       "  'modelisation.GSModels': 2})"
      ]
     },
     "execution_count": 8,
     "metadata": {},
     "output_type": "execute_result"
    }
   ],
   "source": [
    "GSModels.objects.all().delete()"
   ]
  },
  {
   "cell_type": "code",
   "execution_count": null,
   "metadata": {},
   "outputs": [],
   "source": []
  },
  {
   "cell_type": "code",
   "execution_count": 14,
   "metadata": {},
   "outputs": [],
   "source": [
    "wd = os.path.dirname(os.getcwd())+'/'\n",
    "dirmodels = wd+'static/metabolic/models_old/'\n",
    "dirout = wd+'static/metabolic/models/'"
   ]
  },
  {
   "cell_type": "code",
   "execution_count": 9,
   "metadata": {},
   "outputs": [
    {
     "data": {
      "text/plain": [
       "['iHN637.json',\n",
       " 'RECON1.json',\n",
       " 'iML1515.json',\n",
       " 'iML1515_PKT_old.json',\n",
       " 'iJO1366.json',\n",
       " 'iML1515_PKT.json']"
      ]
     },
     "execution_count": 9,
     "metadata": {},
     "output_type": "execute_result"
    }
   ],
   "source": [
    "os.listdir(dirmodels)"
   ]
  },
  {
   "cell_type": "code",
   "execution_count": 7,
   "metadata": {},
   "outputs": [],
   "source": [
    "# os.system('cp /home/frek/Desktop/ibn_pathway.xlsx /media/frek/Storage/projects/chemocobra/ipynb')\n",
    "data_ibn = pd.read_excel('ibn_pathway.xlsx',index_col=0,sheet_name=None)"
   ]
  },
  {
   "cell_type": "code",
   "execution_count": 8,
   "metadata": {},
   "outputs": [
    {
     "data": {
      "text/html": [
       "<div>\n",
       "<style scoped>\n",
       "    .dataframe tbody tr th:only-of-type {\n",
       "        vertical-align: middle;\n",
       "    }\n",
       "\n",
       "    .dataframe tbody tr th {\n",
       "        vertical-align: top;\n",
       "    }\n",
       "\n",
       "    .dataframe thead th {\n",
       "        text-align: right;\n",
       "    }\n",
       "</style>\n",
       "<table border=\"1\" class=\"dataframe\">\n",
       "  <thead>\n",
       "    <tr style=\"text-align: right;\">\n",
       "      <th></th>\n",
       "      <th>name</th>\n",
       "      <th>lower_bound</th>\n",
       "      <th>upper_bound</th>\n",
       "      <th>gene_reaction_rule</th>\n",
       "      <th>reaction</th>\n",
       "    </tr>\n",
       "    <tr>\n",
       "      <th>id</th>\n",
       "      <th></th>\n",
       "      <th></th>\n",
       "      <th></th>\n",
       "      <th></th>\n",
       "      <th></th>\n",
       "    </tr>\n",
       "  </thead>\n",
       "  <tbody>\n",
       "    <tr>\n",
       "      <th>HMGCS</th>\n",
       "      <td>HMG-CoA Synthase</td>\n",
       "      <td>-1000</td>\n",
       "      <td>1000</td>\n",
       "      <td>S318</td>\n",
       "      <td>aacoa_c + accoa_c + h2o_c &lt;==&gt; hmgcoa_c + coa_...</td>\n",
       "    </tr>\n",
       "    <tr>\n",
       "      <th>ECH</th>\n",
       "      <td>HMG-CoA Dehydratase</td>\n",
       "      <td>-1000</td>\n",
       "      <td>1000</td>\n",
       "      <td>ECH</td>\n",
       "      <td>hmgcoa_c &lt;==&gt; mgcoa_c + h2o_c</td>\n",
       "    </tr>\n",
       "    <tr>\n",
       "      <th>AIBAB</th>\n",
       "      <td>MG-CoA Decarboxylase</td>\n",
       "      <td>0</td>\n",
       "      <td>1000</td>\n",
       "      <td>(aibA and aibB)</td>\n",
       "      <td>mgcoa_c + h_c → mccoa_c + co2_c</td>\n",
       "    </tr>\n",
       "    <tr>\n",
       "      <th>TESB</th>\n",
       "      <td>Acyl-CoA Thioesterase</td>\n",
       "      <td>-1000</td>\n",
       "      <td>1000</td>\n",
       "      <td>b0452</td>\n",
       "      <td>mccoa_c + h2o_c → mca_c + coa_c</td>\n",
       "    </tr>\n",
       "    <tr>\n",
       "      <th>SS5</th>\n",
       "      <td>Prenate decarboxylase</td>\n",
       "      <td>0</td>\n",
       "      <td>1000</td>\n",
       "      <td>ss5</td>\n",
       "      <td>mca_c → ibn_c + co2_c</td>\n",
       "    </tr>\n",
       "    <tr>\n",
       "      <th>EX_IBN_e</th>\n",
       "      <td>IBN Exchange</td>\n",
       "      <td>0</td>\n",
       "      <td>1000</td>\n",
       "      <td>NaN</td>\n",
       "      <td>ibn_c →</td>\n",
       "    </tr>\n",
       "    <tr>\n",
       "      <th>ACACDCBX</th>\n",
       "      <td>Acetoacetate Decarboxylase</td>\n",
       "      <td>0</td>\n",
       "      <td>1000</td>\n",
       "      <td>NaN</td>\n",
       "      <td>acac_c + h_c --&gt;  acetone_c + co2_c</td>\n",
       "    </tr>\n",
       "    <tr>\n",
       "      <th>IPRNADH</th>\n",
       "      <td>Propane 2-Monooxygenase (EC 1.14.13.227)</td>\n",
       "      <td>-1000</td>\n",
       "      <td>1000</td>\n",
       "      <td>NaN</td>\n",
       "      <td>acetone_c + h_c + nadh_c --&gt; ipa_c + nad_c</td>\n",
       "    </tr>\n",
       "    <tr>\n",
       "      <th>IPRNADPH</th>\n",
       "      <td>Isopropanol Dehydrogenase (EC 1.1.1.80)</td>\n",
       "      <td>-1000</td>\n",
       "      <td>1000</td>\n",
       "      <td>NaN</td>\n",
       "      <td>acetone_c + h_c + nadph_c --&gt; ipa_c + nadp_c</td>\n",
       "    </tr>\n",
       "    <tr>\n",
       "      <th>EX_acetone</th>\n",
       "      <td>Acetone Exchange</td>\n",
       "      <td>0</td>\n",
       "      <td>1000</td>\n",
       "      <td>NaN</td>\n",
       "      <td>acetone_c --&gt;</td>\n",
       "    </tr>\n",
       "    <tr>\n",
       "      <th>EX_ipa</th>\n",
       "      <td>Isopropanol Exchange</td>\n",
       "      <td>0</td>\n",
       "      <td>1000</td>\n",
       "      <td>NaN</td>\n",
       "      <td>ipa_c --&gt;</td>\n",
       "    </tr>\n",
       "  </tbody>\n",
       "</table>\n",
       "</div>"
      ],
      "text/plain": [
       "                                                name  lower_bound  \\\n",
       "id                                                                  \n",
       "HMGCS                               HMG-CoA Synthase        -1000   \n",
       "ECH                              HMG-CoA Dehydratase        -1000   \n",
       "AIBAB                           MG-CoA Decarboxylase            0   \n",
       "TESB                           Acyl-CoA Thioesterase        -1000   \n",
       "SS5                            Prenate decarboxylase            0   \n",
       "EX_IBN_e                                IBN Exchange            0   \n",
       "ACACDCBX                  Acetoacetate Decarboxylase            0   \n",
       "IPRNADH     Propane 2-Monooxygenase (EC 1.14.13.227)        -1000   \n",
       "IPRNADPH    Isopropanol Dehydrogenase (EC 1.1.1.80)         -1000   \n",
       "EX_acetone                          Acetone Exchange            0   \n",
       "EX_ipa                          Isopropanol Exchange            0   \n",
       "\n",
       "            upper_bound gene_reaction_rule  \\\n",
       "id                                           \n",
       "HMGCS              1000               S318   \n",
       "ECH                1000                ECH   \n",
       "AIBAB              1000    (aibA and aibB)   \n",
       "TESB               1000              b0452   \n",
       "SS5                1000                ss5   \n",
       "EX_IBN_e           1000                NaN   \n",
       "ACACDCBX           1000                NaN   \n",
       "IPRNADH            1000                NaN   \n",
       "IPRNADPH           1000                NaN   \n",
       "EX_acetone         1000                NaN   \n",
       "EX_ipa             1000                NaN   \n",
       "\n",
       "                                                     reaction  \n",
       "id                                                             \n",
       "HMGCS       aacoa_c + accoa_c + h2o_c <==> hmgcoa_c + coa_...  \n",
       "ECH                             hmgcoa_c <==> mgcoa_c + h2o_c  \n",
       "AIBAB                         mgcoa_c + h_c → mccoa_c + co2_c  \n",
       "TESB                          mccoa_c + h2o_c → mca_c + coa_c  \n",
       "SS5                                     mca_c → ibn_c + co2_c  \n",
       "EX_IBN_e                                             ibn_c →   \n",
       "ACACDCBX                  acac_c + h_c -->  acetone_c + co2_c  \n",
       "IPRNADH            acetone_c + h_c + nadh_c --> ipa_c + nad_c  \n",
       "IPRNADPH         acetone_c + h_c + nadph_c --> ipa_c + nadp_c  \n",
       "EX_acetone                                     acetone_c -->   \n",
       "EX_ipa                                             ipa_c -->   "
      ]
     },
     "execution_count": 8,
     "metadata": {},
     "output_type": "execute_result"
    }
   ],
   "source": [
    "data_ibn['reactions']"
   ]
  },
  {
   "cell_type": "code",
   "execution_count": 11,
   "metadata": {},
   "outputs": [
    {
     "data": {
      "text/plain": [
       "['iHN637.json',\n",
       " 'RECON1.json',\n",
       " 'iML1515.json',\n",
       " 'iJO1366.json',\n",
       " 'iML1515_PKT.json']"
      ]
     },
     "execution_count": 11,
     "metadata": {},
     "output_type": "execute_result"
    }
   ],
   "source": [
    "[f for f in os.listdir(dirmodels) if 'old' not in f]"
   ]
  },
  {
   "cell_type": "code",
   "execution_count": 15,
   "metadata": {},
   "outputs": [
    {
     "name": "stdout",
     "output_type": "stream",
     "text": [
      "unknown metabolite 'acac_c' created\n",
      "iHN637 OK\n",
      "RECON1 OK\n",
      "ACACCT changed for iML1515\n",
      "iML1515 13.841159420289856\n",
      "iML1515 OK\n",
      "ACACCT changed for iJO1366\n",
      "iJO1366 OK\n",
      "ACACCT changed for iML1515_PKT_old\n",
      "iML1515_PKT_old 14.792380952380945\n",
      "iML1515_PKT OK\n"
     ]
    }
   ],
   "source": [
    "mets = {}\n",
    "## Charge metabolites\n",
    "for m_id in data_ibn['metabolites'].index:\n",
    "    mets[m_id] = Metabolite(\n",
    "        id = m_id,\n",
    "        name = data_ibn['metabolites'].loc[m_id,'name'],\n",
    "        formula = data_ibn['metabolites'].loc[m_id,'formula'],\n",
    "        compartment = data_ibn['metabolites'].loc[m_id,'compartment']\n",
    "    )\n",
    "#     print(m_id,'charge:',mets[m_id].charge)\n",
    "    \n",
    "for filename in [f for f in os.listdir(dirmodels) if 'old' not in f]:\n",
    "    model = cameo.load_model(dirmodels+filename)\n",
    "    model.add_metabolites(mets.values())    \n",
    "    ## add reactions\n",
    "    for r_id in data_ibn['reactions'].index:\n",
    "        r = Reaction(\n",
    "            id = r_id,\n",
    "            name = data_ibn['reactions'].loc[r_id,'name'],\n",
    "            subsystem = 'IBN Pathway D',\n",
    "            lower_bound = data_ibn['reactions'].loc[r_id,'lower_bound'],\n",
    "            upper_bound = data_ibn['reactions'].loc[r_id,'upper_bound']\n",
    "        )\n",
    "        model.add_reaction(r)\n",
    "        r.reaction = data_ibn['reactions'].loc[r_id,'reaction'].replace('→','-->')\n",
    "        balanced = r.check_mass_balance()\n",
    "    \n",
    "    try:\n",
    "        ACACCT = model.reactions.get_by_id('ACACCT')\n",
    "    except:\n",
    "        pass\n",
    "    else:\n",
    "        ACACCT.lower_bound = -1000\n",
    "        print('ACACCT changed for',model.id)\n",
    "            \n",
    "    if 'iML1515' in model.id:\n",
    "        model.objective = 'EX_acetone'\n",
    "        res = model.optimize()\n",
    "        print(model.id, res.objective_value)\n",
    "    \n",
    "    if model.id == 'iML1515_PKT_old':\n",
    "        model.id = 'iML1515_PKT'\n",
    "    cobra.io.save_json_model(model, dirout+filename)\n",
    "    \n",
    "    print(model.id, 'OK')\n",
    "    "
   ]
  },
  {
   "cell_type": "code",
   "execution_count": null,
   "metadata": {},
   "outputs": [],
   "source": []
  },
  {
   "cell_type": "code",
   "execution_count": 28,
   "metadata": {},
   "outputs": [],
   "source": [
    "\n",
    "import requests\n",
    "\n",
    "S = requests.Session()\n",
    "\n",
    "URL = \"https://en.wikipedia.org/w/api.php\"\n",
    "\n",
    "SEARCHPAGE = \"isobutene\"\n",
    "\n",
    "PARAMS = {\n",
    "    \"action\": \"query\",\n",
    "    \"format\": \"json\",\n",
    "    \"list\": \"search\",\n",
    "    \"srsearch\": SEARCHPAGE\n",
    "}\n",
    "\n",
    "R = S.get(url=URL, params=PARAMS)\n",
    "DATA = R.json()\n",
    "\n",
    "if DATA['query']['search'][0]['title'] == SEARCHPAGE:\n",
    "    print(\"Your search page '\" + SEARCHPAGE + \"' exists on English Wikipedia\")"
   ]
  },
  {
   "cell_type": "code",
   "execution_count": 30,
   "metadata": {},
   "outputs": [
    {
     "data": {
      "text/plain": [
       "{'ns': 0,\n",
       " 'title': 'Isobutylene',\n",
       " 'pageid': 1596651,\n",
       " 'size': 5767,\n",
       " 'wordcount': 424,\n",
       " 'snippet': 'Drugs, and Biologicals (11th ed.), Merck, 1989, ISBN\\xa0091191028X, 5024. <span class=\"searchmatch\">Isobutene</span>, International Chemical Safety Card 1027, Geneva: International Programme',\n",
       " 'timestamp': '2020-08-17T11:54:55Z'}"
      ]
     },
     "execution_count": 30,
     "metadata": {},
     "output_type": "execute_result"
    }
   ],
   "source": [
    "DATA['query']['search'][0]"
   ]
  },
  {
   "cell_type": "code",
   "execution_count": 31,
   "metadata": {},
   "outputs": [],
   "source": [
    "import wikipedia"
   ]
  },
  {
   "cell_type": "code",
   "execution_count": 32,
   "metadata": {},
   "outputs": [
    {
     "name": "stdout",
     "output_type": "stream",
     "text": [
      "Isobutylene (or 2-methylpropene) is a hydrocarbon with the formula (CH3)2C=CH2.  It is a four-carbon branched alkene (olefin), one of the four isomers of butylene.  A colourless flammable gas, it is of considerable industrial value.\n"
     ]
    }
   ],
   "source": [
    "print(wikipedia.summary(\"isobutene\"))"
   ]
  },
  {
   "cell_type": "code",
   "execution_count": null,
   "metadata": {},
   "outputs": [],
   "source": []
  }
 ],
 "metadata": {
  "kernelspec": {
   "display_name": "Python 3",
   "language": "python",
   "name": "python3"
  },
  "language_info": {
   "codemirror_mode": {
    "name": "ipython",
    "version": 3
   },
   "file_extension": ".py",
   "mimetype": "text/x-python",
   "name": "python",
   "nbconvert_exporter": "python",
   "pygments_lexer": "ipython3",
   "version": "3.8.3"
  }
 },
 "nbformat": 4,
 "nbformat_minor": 2
}
